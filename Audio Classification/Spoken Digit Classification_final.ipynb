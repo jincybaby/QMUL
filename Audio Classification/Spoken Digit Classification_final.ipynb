{
 "cells": [
  {
   "cell_type": "markdown",
   "id": "e70d0847",
   "metadata": {},
   "source": [
    "Importing the libraries"
   ]
  },
  {
   "cell_type": "code",
   "execution_count": 147,
   "id": "47a55894",
   "metadata": {},
   "outputs": [],
   "source": [
    "import numpy as np\n",
    "import pandas as pd\n",
    "import os, random\n",
    "import matplotlib.image as mpimg\n",
    "import matplotlib.pyplot as plt\n",
    "import librosa\n",
    "import librosa.display\n",
    "%matplotlib inline"
   ]
  },
  {
   "cell_type": "markdown",
   "id": "69feef88",
   "metadata": {},
   "source": [
    "Importing the required data"
   ]
  },
  {
   "cell_type": "code",
   "execution_count": 148,
   "id": "734abd6c",
   "metadata": {},
   "outputs": [],
   "source": [
    "audio_mnist_training_mfccs = np.genfromtxt(\n",
    "    'AudioMNIST/MFCC/Training/training_mfccs.txt')\n",
    "audio_mnist_training_labels = np.genfromtxt(\n",
    "    'AudioMNIST/MFCC/Training/training_labels.txt').reshape(-1, 1)"
   ]
  },
  {
   "cell_type": "code",
   "execution_count": 149,
   "id": "37603f63",
   "metadata": {},
   "outputs": [
    {
     "name": "stdout",
     "output_type": "stream",
     "text": [
      "The Audio MNIST training set contains 2400 samples with 900 MFC coefficients each.\n"
     ]
    },
    {
     "data": {
      "text/plain": [
       "<function matplotlib.pyplot.tight_layout(*, pad=1.08, h_pad=None, w_pad=None, rect=None)>"
      ]
     },
     "execution_count": 149,
     "metadata": {},
     "output_type": "execute_result"
    },
    {
     "data": {
      "image/png": "[encoded data removed]",
      "text/plain": [
       "<Figure size 432x288 with 1 Axes>"
      ]
     },
     "metadata": {
      "needs_background": "light"
     },
     "output_type": "display_data"
    }
   ],
   "source": [
    "print(\"The Audio MNIST training set contains {s} samples with {p} MFC coefficients each.\".format(s = audio_mnist_training_mfccs.shape[0], \\\n",
    "        p = audio_mnist_training_mfccs.shape[1]))\n",
    "\n",
    "item_number = np.random.randint(low=0, high=2400)\n",
    "\n",
    "plt.imshow(audio_mnist_training_mfccs[item_number].reshape(30, 30), cmap='hot')\n",
    "plt.title(\"This is the {n}th audio sample of the Audio MNIST training set. The corresponding label is {l}\".format( \\\n",
    "            n= item_number, l=int(audio_mnist_training_labels[item_number][0])))\n",
    "plt.tight_layout"
   ]
  },
  {
   "cell_type": "code",
   "execution_count": 150,
   "id": "96b4afb5",
   "metadata": {},
   "outputs": [
    {
     "data": {
      "text/html": [
       "<div>\n",
       "<style scoped>\n",
       "    .dataframe tbody tr th:only-of-type {\n",
       "        vertical-align: middle;\n",
       "    }\n",
       "\n",
       "    .dataframe tbody tr th {\n",
       "        vertical-align: top;\n",
       "    }\n",
       "\n",
       "    .dataframe thead th {\n",
       "        text-align: right;\n",
       "    }\n",
       "</style>\n",
       "<table border=\"1\" class=\"dataframe\">\n",
       "  <thead>\n",
       "    <tr style=\"text-align: right;\">\n",
       "      <th></th>\n",
       "      <th>0</th>\n",
       "      <th>1</th>\n",
       "      <th>2</th>\n",
       "      <th>3</th>\n",
       "      <th>4</th>\n",
       "      <th>5</th>\n",
       "      <th>6</th>\n",
       "      <th>7</th>\n",
       "      <th>8</th>\n",
       "      <th>9</th>\n",
       "      <th>...</th>\n",
       "      <th>891</th>\n",
       "      <th>892</th>\n",
       "      <th>893</th>\n",
       "      <th>894</th>\n",
       "      <th>895</th>\n",
       "      <th>896</th>\n",
       "      <th>897</th>\n",
       "      <th>898</th>\n",
       "      <th>899</th>\n",
       "      <th>label</th>\n",
       "    </tr>\n",
       "  </thead>\n",
       "  <tbody>\n",
       "    <tr>\n",
       "      <th>0</th>\n",
       "      <td>-388.500305</td>\n",
       "      <td>-440.352600</td>\n",
       "      <td>-502.921875</td>\n",
       "      <td>-516.278870</td>\n",
       "      <td>-525.682434</td>\n",
       "      <td>-521.380127</td>\n",
       "      <td>-519.283020</td>\n",
       "      <td>-523.684753</td>\n",
       "      <td>-520.529175</td>\n",
       "      <td>-478.866180</td>\n",
       "      <td>...</td>\n",
       "      <td>6.576453</td>\n",
       "      <td>9.443312</td>\n",
       "      <td>6.769020</td>\n",
       "      <td>3.878198</td>\n",
       "      <td>1.093867</td>\n",
       "      <td>1.110493</td>\n",
       "      <td>-0.417849</td>\n",
       "      <td>-4.568942</td>\n",
       "      <td>-6.523507</td>\n",
       "      <td>0</td>\n",
       "    </tr>\n",
       "    <tr>\n",
       "      <th>1</th>\n",
       "      <td>-462.871307</td>\n",
       "      <td>-445.663788</td>\n",
       "      <td>-421.882507</td>\n",
       "      <td>-382.277863</td>\n",
       "      <td>-355.321136</td>\n",
       "      <td>-351.961273</td>\n",
       "      <td>-353.766663</td>\n",
       "      <td>-350.711029</td>\n",
       "      <td>-361.763733</td>\n",
       "      <td>-375.541840</td>\n",
       "      <td>...</td>\n",
       "      <td>0.000000</td>\n",
       "      <td>0.000000</td>\n",
       "      <td>0.000000</td>\n",
       "      <td>0.000000</td>\n",
       "      <td>0.000000</td>\n",
       "      <td>0.000000</td>\n",
       "      <td>0.000000</td>\n",
       "      <td>0.000000</td>\n",
       "      <td>0.000000</td>\n",
       "      <td>0</td>\n",
       "    </tr>\n",
       "    <tr>\n",
       "      <th>2</th>\n",
       "      <td>-452.487213</td>\n",
       "      <td>-429.940308</td>\n",
       "      <td>-417.119049</td>\n",
       "      <td>-404.386261</td>\n",
       "      <td>-380.008423</td>\n",
       "      <td>-361.944946</td>\n",
       "      <td>-356.141510</td>\n",
       "      <td>-352.765839</td>\n",
       "      <td>-349.870911</td>\n",
       "      <td>-362.951904</td>\n",
       "      <td>...</td>\n",
       "      <td>2.335657</td>\n",
       "      <td>0.000000</td>\n",
       "      <td>0.000000</td>\n",
       "      <td>0.000000</td>\n",
       "      <td>0.000000</td>\n",
       "      <td>0.000000</td>\n",
       "      <td>0.000000</td>\n",
       "      <td>0.000000</td>\n",
       "      <td>0.000000</td>\n",
       "      <td>0</td>\n",
       "    </tr>\n",
       "    <tr>\n",
       "      <th>3</th>\n",
       "      <td>-459.929352</td>\n",
       "      <td>-435.518555</td>\n",
       "      <td>-421.249359</td>\n",
       "      <td>-391.013397</td>\n",
       "      <td>-353.172943</td>\n",
       "      <td>-341.304138</td>\n",
       "      <td>-332.169006</td>\n",
       "      <td>-334.234650</td>\n",
       "      <td>-338.372986</td>\n",
       "      <td>-337.583008</td>\n",
       "      <td>...</td>\n",
       "      <td>-8.136976</td>\n",
       "      <td>-4.376896</td>\n",
       "      <td>-1.517604</td>\n",
       "      <td>0.000000</td>\n",
       "      <td>0.000000</td>\n",
       "      <td>0.000000</td>\n",
       "      <td>0.000000</td>\n",
       "      <td>0.000000</td>\n",
       "      <td>0.000000</td>\n",
       "      <td>0</td>\n",
       "    </tr>\n",
       "    <tr>\n",
       "      <th>4</th>\n",
       "      <td>-415.115753</td>\n",
       "      <td>-380.700470</td>\n",
       "      <td>-364.042755</td>\n",
       "      <td>-343.932404</td>\n",
       "      <td>-335.777008</td>\n",
       "      <td>-337.256165</td>\n",
       "      <td>-335.528809</td>\n",
       "      <td>-332.170227</td>\n",
       "      <td>-333.991577</td>\n",
       "      <td>-353.383728</td>\n",
       "      <td>...</td>\n",
       "      <td>-7.899344</td>\n",
       "      <td>-2.855740</td>\n",
       "      <td>-1.100652</td>\n",
       "      <td>0.000000</td>\n",
       "      <td>0.000000</td>\n",
       "      <td>0.000000</td>\n",
       "      <td>0.000000</td>\n",
       "      <td>0.000000</td>\n",
       "      <td>0.000000</td>\n",
       "      <td>0</td>\n",
       "    </tr>\n",
       "  </tbody>\n",
       "</table>\n",
       "<p>5 rows × 901 columns</p>\n",
       "</div>"
      ],
      "text/plain": [
       "            0           1           2           3           4           5  \\\n",
       "0 -388.500305 -440.352600 -502.921875 -516.278870 -525.682434 -521.380127   \n",
       "1 -462.871307 -445.663788 -421.882507 -382.277863 -355.321136 -351.961273   \n",
       "2 -452.487213 -429.940308 -417.119049 -404.386261 -380.008423 -361.944946   \n",
       "3 -459.929352 -435.518555 -421.249359 -391.013397 -353.172943 -341.304138   \n",
       "4 -415.115753 -380.700470 -364.042755 -343.932404 -335.777008 -337.256165   \n",
       "\n",
       "            6           7           8           9  ...       891       892  \\\n",
       "0 -519.283020 -523.684753 -520.529175 -478.866180  ...  6.576453  9.443312   \n",
       "1 -353.766663 -350.711029 -361.763733 -375.541840  ...  0.000000  0.000000   \n",
       "2 -356.141510 -352.765839 -349.870911 -362.951904  ...  2.335657  0.000000   \n",
       "3 -332.169006 -334.234650 -338.372986 -337.583008  ... -8.136976 -4.376896   \n",
       "4 -335.528809 -332.170227 -333.991577 -353.383728  ... -7.899344 -2.855740   \n",
       "\n",
       "        893       894       895       896       897       898       899  label  \n",
       "0  6.769020  3.878198  1.093867  1.110493 -0.417849 -4.568942 -6.523507      0  \n",
       "1  0.000000  0.000000  0.000000  0.000000  0.000000  0.000000  0.000000      0  \n",
       "2  0.000000  0.000000  0.000000  0.000000  0.000000  0.000000  0.000000      0  \n",
       "3 -1.517604  0.000000  0.000000  0.000000  0.000000  0.000000  0.000000      0  \n",
       "4 -1.100652  0.000000  0.000000  0.000000  0.000000  0.000000  0.000000      0  \n",
       "\n",
       "[5 rows x 901 columns]"
      ]
     },
     "execution_count": 150,
     "metadata": {},
     "output_type": "execute_result"
    }
   ],
   "source": [
    "\n",
    "df=pd.DataFrame(audio_mnist_training_mfccs)\n",
    "df['label'] =audio_mnist_training_labels.astype(int)\n",
    "df.head()"
   ]
  },
  {
   "cell_type": "code",
   "execution_count": 151,
   "id": "8697158f",
   "metadata": {},
   "outputs": [
    {
     "name": "stdout",
     "output_type": "stream",
     "text": [
      "[-13.88185235  -8.26082565  -8.87601785 ...  -6.70594501  -6.00281653\n",
      "  -6.08288715]\n",
      "[7343.17252373 5031.53311258 5531.37301877 ... 8798.3727984  7528.74341066\n",
      " 7200.93304515]\n"
     ]
    }
   ],
   "source": [
    "print (audio_mnist_training_mfccs.mean(axis=1))\n",
    "print (audio_mnist_training_mfccs.var(axis=1))"
   ]
  },
  {
   "cell_type": "code",
   "execution_count": 152,
   "id": "95dd7260",
   "metadata": {},
   "outputs": [
    {
     "name": "stdout",
     "output_type": "stream",
     "text": [
      "Sample_rate from librosa 22050\n",
      "feature - normalized value from librosa [-0.00679896 -0.01424026 -0.0169149  ... -0.00271908 -0.00141177\n",
      "  0.        ]\n"
     ]
    },
    {
     "data": {
      "image/png": "[encoded data removed]",
      "text/plain": [
       "<Figure size 1008x360 with 1 Axes>"
      ]
     },
     "metadata": {
      "needs_background": "light"
     },
     "output_type": "display_data"
    }
   ],
   "source": [
    "file='AudioMNIST/Audio/Training/0_george_10.wav'\n",
    "plt.figure(figsize=(14,5))\n",
    "aud,sr=librosa.load(file)\n",
    "librosa.display.waveplot(aud,color='#2C3F71')  \n",
    "print(\"Sample_rate from librosa\",sr) \n",
    "print(\"feature - normalized value from librosa\",aud) "
   ]
  },
  {
   "cell_type": "code",
   "execution_count": 153,
   "id": "4a0d0710",
   "metadata": {},
   "outputs": [],
   "source": [
    "#for saving the images for MFCC into appropriate files according to the digit\n",
    "\n",
    "#import pathlib\n",
    "#import os\n",
    "\n",
    "#plt.figure(figsize=(8,8))\n",
    "#Digit = '0 1 2 3 4 5 6 7 8 9'.split()\n",
    "#print(Digit)\n",
    "#for i in Digit:\n",
    "#    pathlib.Path(f'img_data/{i}').mkdir(parents=True, exist_ok=True)\n",
    "#    for filename in os.listdir(f'./AudioMNIST/Audio/Training'):\n",
    "#        if filename.startswith(i):\n",
    "#            audn = f'./AudioMNIST/Audio/Training/{filename}'\n",
    "#            y, sr = librosa.load(audn, mono=True, duration=5)\n",
    "#            plt.imshow(audio_mnist_training_mfccs[item_number].reshape(30, 30), cmap='hot')\n",
    "#            plt.axis('off');\n",
    "#            plt.savefig(f'img_data/{i}/{filename[:-3].replace(\".\", \"\")}.png')\n",
    "#            plt.clf()"
   ]
  },
  {
   "cell_type": "code",
   "execution_count": 154,
   "id": "217e37be",
   "metadata": {},
   "outputs": [
    {
     "data": {
      "image/png": "[encoded data removed]",
      "text/plain": [
       "<Figure size 432x288 with 1 Axes>"
      ]
     },
     "metadata": {
      "needs_background": "light"
     },
     "output_type": "display_data"
    },
    {
     "data": {
      "image/png": "[encoded data removed]",
      "text/plain": [
       "<Figure size 432x288 with 1 Axes>"
      ]
     },
     "metadata": {
      "needs_background": "light"
     },
     "output_type": "display_data"
    },
    {
     "data": {
      "image/png": "[encoded data removed]",
      "text/plain": [
       "<Figure size 432x288 with 1 Axes>"
      ]
     },
     "metadata": {
      "needs_background": "light"
     },
     "output_type": "display_data"
    },
    {
     "data": {
      "image/png": "[encoded data removed]",
      "text/plain": [
       "<Figure size 432x288 with 1 Axes>"
      ]
     },
     "metadata": {
      "needs_background": "light"
     },
     "output_type": "display_data"
    },
    {
     "data": {
      "image/png": "[encoded data removed]",
      "text/plain": [
       "<Figure size 432x288 with 1 Axes>"
      ]
     },
     "metadata": {
      "needs_background": "light"
     },
     "output_type": "display_data"
    },
    {
     "data": {
      "image/png": "[encoded data removed]",
      "text/plain": [
       "<Figure size 432x288 with 1 Axes>"
      ]
     },
     "metadata": {
      "needs_background": "light"
     },
     "output_type": "display_data"
    },
    {
     "data": {
      "image/png": "[encoded data removed]",
      "text/plain": [
       "<Figure size 432x288 with 1 Axes>"
      ]
     },
     "metadata": {
      "needs_background": "light"
     },
     "output_type": "display_data"
    },
    {
     "data": {
      "image/png": "[encoded data removed]",
      "text/plain": [
       "<Figure size 432x288 with 1 Axes>"
      ]
     },
     "metadata": {
      "needs_background": "light"
     },
     "output_type": "display_data"
    },
    {
     "data": {
      "image/png": "[encoded data removed]",
      "text/plain": [
       "<Figure size 432x288 with 1 Axes>"
      ]
     },
     "metadata": {
      "needs_background": "light"
     },
     "output_type": "display_data"
    },
    {
     "data": {
      "image/png": "[encoded data removed]",
      "text/plain": [
       "<Figure size 432x288 with 1 Axes>"
      ]
     },
     "metadata": {
      "needs_background": "light"
     },
     "output_type": "display_data"
    }
   ],
   "source": [
    "\n",
    "\n",
    "Digit = '0 1 2 3 4 5 6 7 8 9'.split()\n",
    "\n",
    "#print random MFCC images stored in img_data file\n",
    "for i in Digit:\n",
    "    filename = random.choice(os.listdir(f'img_data/{i}'))\n",
    "    file=os.path.join(f'img_data/{i}', filename)\n",
    "    img = mpimg.imread(file)\n",
    "    imgplot = plt.imshow(img)\n",
    "    plt.title(filename)\n",
    "    plt.tight_layout\n",
    "    plt.show()"
   ]
  },
  {
   "cell_type": "code",
   "execution_count": 155,
   "id": "9e3f79a7",
   "metadata": {},
   "outputs": [],
   "source": [
    "def standardise(data_matrix):\n",
    "    P=data_matrix\n",
    "    row_means = np.mean(data_matrix, axis=0)\n",
    "    std_matrix = P - row_means\n",
    "    row_stds = np.std(std_matrix, axis=0)\n",
    "    return (std_matrix / row_stds), row_means, row_stds\n",
    "\n",
    "def linear_regression_data(data_inputs):\n",
    "    col=np.ones((len(data_inputs), 1))\n",
    "    mat=np.c_[col,data_inputs]\n",
    "    return mat\n",
    "\n",
    "def one_hot_vector_encoding(labels):\n",
    "    N = np.max(labels) + 1\n",
    "    output = np.zeros((len(labels), N))\n",
    "    output[np.arange(len(labels)), labels] = 1\n",
    "    return output\n",
    "\n",
    "def lasso_logistic_regression_cost_function(data_matrix, weight_matrix,\n",
    "                                            one_hot_vector_encodings,\n",
    "                                            regularisation_parameter):\n",
    "    MSE=multinomial_logistic_regression_cost_function(data_matrix, weight_matrix,one_hot_vector_encodings)\n",
    "    a=regularisation_parameter\n",
    "    return MSE+a * np.sum(np.abs(weight_matrix))\n",
    "\n",
    "def multinomial_logistic_regression_cost_function(data_matrix, weight_matrix,\n",
    "                                                  one_hot_vector_encodings):\n",
    "    s=len(data_matrix)\n",
    "    mod = data_matrix @ weight_matrix\n",
    "    return (np.sum(np.log(np.sum(np.exp(mod), axis=1)) \\\n",
    "                   - np.sum(one_hot_vector_encodings * mod, axis=1)))/s\n",
    "\n",
    "def multinomial_logistic_regression_gradient(data_matrix, weight_matrix,\n",
    "                                             one_hot_vector_encodings):\n",
    "    mod = data_matrix @ weight_matrix\n",
    "    s=len(data_matrix)\n",
    "    return (data_matrix.T @(softmax_function(mod, axis=1) - one_hot_vector_encodings))/s\n",
    "\n",
    "def soft_thresholding(argument, threshold):\n",
    "    return np.sign(argument) * np.maximum(0, np.abs(argument) - threshold)\n",
    "\n",
    "def softmax_function(argument, axis=None):\n",
    "    if axis == None:\n",
    "        output = np.exp(argument - np.max(argument))\n",
    "        output = output / np.sum(output)\n",
    "    else:\n",
    "        output = np.exp(argument - np.expand_dims(np.max(argument, axis), axis))\n",
    "        output = output / np.expand_dims(np.sum(output, axis), axis)\n",
    "    return output\n",
    "\n",
    "def linear_model_function(data_matrix, weights):\n",
    "    P=data_matrix\n",
    "    W=weights\n",
    "    return P@W\n",
    "\n",
    "def proximal_gradient_descent(objective,\n",
    "                              gradient,\n",
    "                              proximal_map,\n",
    "                              initial_weights,\n",
    "                              step_size=1,\n",
    "                              no_of_iterations=1000,\n",
    "                              print_output=100):\n",
    "    obj_list=[]\n",
    "    W=initial_weights\n",
    "    print(gradient)\n",
    "    obj_list.append(objective(W))\n",
    "    N=no_of_iterations\n",
    "    s=step_size\n",
    "    for i in range(N):\n",
    "        W=proximal_map(W-s*gradient(W))\n",
    "        obj_list.append(objective(W))\n",
    "        if (i+1)%print_output==0:\n",
    "            print(\"Iteration {k}/{m}, objective={o}.\".format(k=i+1,m=no_of_iterations, o=obj_list[i]))\n",
    "    print(\"Iteration completed after {k}/{m}, objective = {o}.\".format(k=i+1,m=no_of_iterations, o=obj_list[i]))\n",
    "    return W,obj_list\n",
    "\n",
    "def multinomial_prediction_function(data_matrix, weight_matrix):\n",
    "    Mod=linear_model_function(data_matrix, weight_matrix)\n",
    "    return np.argmax(Mod, axis=1)\n",
    "\n",
    "def gradient_descent_v2(objective, gradient, initial_weights, \\\n",
    "                        step_size=1, no_of_iterations=100, print_output=10, tolerance=1e-6):\n",
    "    obj = []\n",
    "    L=objective\n",
    "    weights = np.copy(initial_weights)\n",
    "    N=no_of_iterations\n",
    "    obj.append(L(weights))\n",
    "    \n",
    "    for i in range(N):\n",
    "        dL=gradient(weights)\n",
    "        if np.linalg.norm(dL,2) <= tolerance:\n",
    "            break\n",
    "        weights -= step_size * dL\n",
    "        obj.append(L(weights))\n",
    "        \n",
    "        if (i + 1) % print_output == 0:\n",
    "            print(\"Iteration {k}/{m}, objective = {o}.\".format(k=i+1, m=N, o=obj[i]))\n",
    "        \n",
    "        \n",
    "    print(\"Iteration completed after {k}/{m}, objective = {o}.\".format(k=i+1, m=N, o=obj[i]))\n",
    "    \n",
    "    return weights, obj\n",
    "\n",
    "def classification_accuracy(true_labels, recovered_labels):\n",
    "    equal_labels = recovered_labels == true_labels\n",
    "    return np.mean(equal_labels)"
   ]
  },
  {
   "cell_type": "code",
   "execution_count": 156,
   "id": "c5f20c17",
   "metadata": {},
   "outputs": [],
   "source": [
    "aud_data_inputs, aud_row_of_means, aud_row_of_stds = standardise(audio_mnist_training_mfccs)\n",
    "audio_mnist_training_labels=np.squeeze(audio_mnist_training_labels)\n",
    "audio_labels=audio_mnist_training_labels.astype(int)"
   ]
  },
  {
   "cell_type": "code",
   "execution_count": 157,
   "id": "02e19877",
   "metadata": {},
   "outputs": [
    {
     "name": "stdout",
     "output_type": "stream",
     "text": [
      "[-1.32145813 -0.42012707 -0.48319505 ...  0.08510476  0.06004648\n",
      "  0.03982926]\n",
      "[7.17679823 0.71614593 0.88559615 ... 0.42549882 0.41092291 0.40575815]\n"
     ]
    }
   ],
   "source": [
    "print (aud_data_inputs.mean(axis=1))\n",
    "print (aud_data_inputs.var(axis=1))"
   ]
  },
  {
   "cell_type": "code",
   "execution_count": 158,
   "id": "4a0e8ebf",
   "metadata": {},
   "outputs": [
    {
     "name": "stdout",
     "output_type": "stream",
     "text": [
      "<function <lambda> at 0x7fe940b0b550>\n",
      "Iteration 1000/6000, objective=0.20575644520562872.\n",
      "Iteration 2000/6000, objective=0.13965010754635823.\n",
      "Iteration 3000/6000, objective=0.11281286400005475.\n",
      "Iteration 4000/6000, objective=0.09781639325630262.\n",
      "Iteration 5000/6000, objective=0.08811032501217206.\n",
      "Iteration 6000/6000, objective=0.08126190820881694.\n",
      "Iteration completed after 6000/6000, objective = 0.08126190820881694.\n"
     ]
    }
   ],
   "source": [
    "LASSO_regularisation_parameter = 1e-4\n",
    "\n",
    "audio_data_matrix = linear_regression_data(aud_data_inputs) \n",
    "audio_OHV = one_hot_vector_encoding(audio_labels)\n",
    "\n",
    "audio_LASSO_objective= lambda weight_matrix: lasso_logistic_regression_cost_function(audio_data_matrix,\\\n",
    "                                           weight_matrix, audio_OHV,LASSO_regularisation_parameter)\n",
    "audio_LASSO_gradient = lambda weight_matrix:multinomial_logistic_regression_gradient(audio_data_matrix,\\\n",
    "                                                                                weight_matrix, audio_OHV)\n",
    "Aud_step=len(audio_data_matrix)\n",
    "\n",
    "audio_step_size = (3.9*Aud_step)/(np.linalg.norm(audio_data_matrix))**2 \n",
    "\n",
    "k=LASSO_regularisation_parameter*audio_step_size\n",
    "audio_initial_weights = np.zeros((audio_data_matrix.shape[1], audio_OHV.shape[1]))\n",
    "\n",
    "proximal_map = lambda arg:soft_thresholding(arg, k)\n",
    "\n",
    "\n",
    "LASSO_optimal_weights, LASSO_objective_values=proximal_gradient_descent\\\n",
    "            (audio_LASSO_objective,audio_LASSO_gradient,proximal_map, audio_initial_weights,\\\n",
    "             audio_step_size, 6000,1000)"
   ]
  },
  {
   "cell_type": "code",
   "execution_count": 159,
   "id": "3acbad5f",
   "metadata": {},
   "outputs": [
    {
     "name": "stdout",
     "output_type": "stream",
     "text": [
      "The classification accuracy for the dataset is 99.45833333333334 %.\n"
     ]
    }
   ],
   "source": [
    "audio_L_recovered_labels = multinomial_prediction_function(audio_data_matrix,LASSO_optimal_weights)\n",
    "audio_LASSO_classification_accuracy = classification_accuracy(audio_labels, audio_L_recovered_labels)\n",
    "print(\"The classification accuracy for the dataset is {p} %.\".format(p=100 * audio_LASSO_classification_accuracy))\n",
    "\n",
    "#May be the case of over fitting since the accuracy is too high"
   ]
  },
  {
   "cell_type": "markdown",
   "id": "97d2fed7",
   "metadata": {},
   "source": [
    "Splitting the data into training and testing data to obtain optimal weight and validate"
   ]
  },
  {
   "cell_type": "code",
   "execution_count": 160,
   "id": "54399edc",
   "metadata": {},
   "outputs": [],
   "source": [
    "def data_split(data_matrix, validation_ratio):\n",
    "    data_size = len(data_matrix)\n",
    "    validation_size = int(data_size*validation_ratio)\n",
    "    rows_indexes = np.random.choice(data_size,validation_size, replace = False)\n",
    "    validation_data = data_matrix[rows_indexes,:]\n",
    "    training_data = np.delete(data_matrix, obj = rows_indexes, axis = 0)\n",
    "    return training_data, validation_data"
   ]
  },
  {
   "cell_type": "code",
   "execution_count": 161,
   "id": "fbec2a25",
   "metadata": {},
   "outputs": [],
   "source": [
    "audio_split_data = np.c_[audio_mnist_training_mfccs,audio_mnist_training_labels]\n",
    "training_data, validation_data = data_split(audio_split_data, 0.2)\n",
    "X_train=training_data[:, :-1]\n",
    "Y_train=training_data[:, -1].astype(int) - np.min(training_data[:, -1].astype(int))\n",
    "X_test=validation_data[:, :-1]\n",
    "Y_test=validation_data[:, -1].astype(int) - np.min(validation_data[:, -1].astype(int))"
   ]
  },
  {
   "cell_type": "code",
   "execution_count": 162,
   "id": "7e0eb9cb",
   "metadata": {},
   "outputs": [
    {
     "name": "stdout",
     "output_type": "stream",
     "text": [
      "Iteration 200/2000, objective = 0.5345310615435767.\n",
      "Iteration 400/2000, objective = 0.3343818236638613.\n",
      "Iteration 600/2000, objective = 0.25481638392994693.\n",
      "Iteration 800/2000, objective = 0.21037236454200567.\n",
      "Iteration 1000/2000, objective = 0.18126965036268317.\n",
      "Iteration 1200/2000, objective = 0.16039786788918303.\n",
      "Iteration 1400/2000, objective = 0.14452797686981397.\n",
      "Iteration 1600/2000, objective = 0.13196104755528643.\n",
      "Iteration 1800/2000, objective = 0.12170808928166217.\n",
      "Iteration 2000/2000, objective = 0.11314954128042351.\n",
      "Iteration completed after 2000/2000, objective = 0.11314954128042351.\n"
     ]
    }
   ],
   "source": [
    "aud_split_data_inputs, aud_row_of_means, aud_row_of_stds = standardise(X_train)\n",
    "audio_split_data_matrix = linear_regression_data(aud_split_data_inputs)\n",
    "audio_split_OHV = one_hot_vector_encoding(Y_train)\n",
    "audio_split_objective= lambda weight_matrix: multinomial_logistic_regression_cost_function(audio_split_data_matrix,\\\n",
    "                                                                        weight_matrix, audio_split_OHV)\n",
    "audio_split_gradient = lambda weight_matrix:multinomial_logistic_regression_gradient(audio_split_data_matrix,\\\n",
    "                                                                        weight_matrix, audio_split_OHV)\n",
    "\n",
    "s3=len(audio_split_data_matrix)\n",
    "\n",
    "audio_split_step_size = (3.9*s3)/(np.linalg.norm(audio_split_data_matrix))**2\n",
    "audio_sp_initial_weights = np.zeros((audio_split_data_matrix.shape[1], audio_split_OHV.shape[1]))\n",
    "\n",
    "\n",
    "X_train_optimal_weights, X_train_audio_objective_values=gradient_descent_v2(audio_split_objective, audio_split_gradient,\\\n",
    "                      audio_sp_initial_weights, audio_split_step_size, 2000, 200, 1e-4)\n",
    "\n"
   ]
  },
  {
   "cell_type": "code",
   "execution_count": 163,
   "id": "2ef88d34",
   "metadata": {},
   "outputs": [
    {
     "name": "stdout",
     "output_type": "stream",
     "text": [
      "The classification accuracy for the training dataset is 98.95833333333334 %.\n"
     ]
    }
   ],
   "source": [
    "X_audio_recovered_labels = multinomial_prediction_function(audio_split_data_matrix,X_train_optimal_weights)\n",
    "audio_classification_accuracy = classification_accuracy(Y_train, X_audio_recovered_labels)\n",
    "print(\"The classification accuracy for the training dataset is {p} %.\".format(p=100 * audio_classification_accuracy))"
   ]
  },
  {
   "cell_type": "code",
   "execution_count": 164,
   "id": "d2e402a1",
   "metadata": {},
   "outputs": [
    {
     "name": "stdout",
     "output_type": "stream",
     "text": [
      "The classification accuracy for the training dataset is 96.25 %.\n"
     ]
    }
   ],
   "source": [
    "test_data_inputs, test_row_of_means, test_row_of_stds = standardise(X_test)\n",
    "test_data_matrix = linear_regression_data(test_data_inputs)\n",
    "test_accuracy_rate = classification_accuracy(multinomial_prediction_function\\\n",
    "                                (test_data_matrix, X_train_optimal_weights),Y_test)\n",
    "print(\"The classification accuracy for the training dataset is {p} %.\".format(p=100*test_accuracy_rate))"
   ]
  },
  {
   "cell_type": "markdown",
   "id": "56d7dbe3",
   "metadata": {},
   "source": [
    "Classification accuracy of training and testing data is comparable. So can say that the current model fits the data quite well"
   ]
  },
  {
   "cell_type": "markdown",
   "id": "1e64bb26",
   "metadata": {},
   "source": [
    "### K-Cross Validation using ridge regression"
   ]
  },
  {
   "cell_type": "code",
   "execution_count": 171,
   "id": "0bcc3113",
   "metadata": {},
   "outputs": [],
   "source": [
    "def KFold_split(data_size, K):\n",
    "    np.random.seed(212)\n",
    "    indexes = np.random.permutation(data_size)\n",
    "    m, r = divmod(data_size, K)\n",
    "    indexes_split = [indexes[i * m + min(i, r):(i + 1) * m + min(i + 1, r)] \\\n",
    "                     for i in range(K)]\n",
    "    return indexes_split\n",
    "\n",
    "def KFold_cross_validation(data_matrix, data_outputs, K, model_evaluation,\n",
    "                           error_evaluation):\n",
    "    data_size = len(data_matrix)\n",
    "    indexes_split = KFold_split(data_size, K)\n",
    "    for i in range(K):\n",
    "        indexes = np.concatenate([indexes_split[j] for j in range(K) if (j != i)])\n",
    "        weights = model_evaluation(data_matrix[indexes], data_outputs[indexes])\n",
    "        error = error_evaluation(data_matrix[indexes_split[i]],\n",
    "                             data_outputs[indexes_split[i]], weights)\n",
    "        if (i == 0):\n",
    "            optimal_weights = weights / K\n",
    "            validation_error = error / K\n",
    "        else:\n",
    "            optimal_weights += weights / K\n",
    "            validation_error += error / K\n",
    "\n",
    "    return optimal_weights, validation_error\n",
    "\n",
    "def grid_search(objective, grid):\n",
    "    values = np.array([])\n",
    "    for point in grid:\n",
    "        values = np.append(values, objective(point))\n",
    "    return grid[np.argmin(values)]\n",
    "\n",
    "def ridge_regression(data_matrix, data_outputs, regularisation=0):\n",
    "    return np.linalg.solve(data_matrix.T @ data_matrix +regularisation * \\\n",
    "                np.identity(len(data_matrix.T)),data_matrix.T @ data_outputs)\n",
    "\n",
    "def ridge_regression_data(data_inputs, degree=1):\n",
    "    if (degree > 1 and data_inputs.ndim > 1):\n",
    "        raise NotImplementedError()\n",
    "    if (data_inputs.ndim == 1):\n",
    "        X_matrix = np.ones((len(data_inputs), 1))\n",
    "        for i in range(degree):\n",
    "            X_matrix = np.c_[X_matrix, np.power(data_inputs, i + 1)]\n",
    "    else:\n",
    "        first_column = np.ones((len(data_inputs), 1))\n",
    "        X_matrix = np.c_[first_column, data_inputs]\n",
    "    return X_matrix\n",
    "\n",
    "def prediction_function(data_matrix, weights):\n",
    "    return data_matrix @ weights\n",
    "\n",
    "def prediction_error(data_matrix,data_outputs,weights):\n",
    "    return 1/(2*len(data_matrix))*(np.linalg.norm(data_matrix@weights-data_outputs))**2"
   ]
  },
  {
   "cell_type": "code",
   "execution_count": 172,
   "id": "f6015e03",
   "metadata": {},
   "outputs": [
    {
     "name": "stdout",
     "output_type": "stream",
     "text": [
      "An optimal value of regularisation parameter is 19.0.\n",
      "For this value of     regularisation parameter one gets optimal weights of the form \n",
      "[ 1.24127373e-02 -8.19504099e-02  1.83860163e-01  3.66319880e-02\n",
      " -2.43325070e-03 -4.29355873e-02 -4.78617871e-02 -5.57144580e-03\n",
      "  2.17811038e-01 -6.46796694e-02 -4.09085804e-02 -5.00931305e-02\n",
      " -2.25856853e-01 -3.79198386e-02  3.45179210e-02 -2.40581464e-02\n",
      " -2.53207671e-01 -1.27400375e-01  3.02513218e-01 -7.18684953e-02\n",
      " -8.57684327e-02  7.32392923e-03 -2.86216718e-02  1.99001590e-01\n",
      "  1.57996624e-01  4.28685501e-02  4.83406629e-01  8.94206209e-02\n",
      "  1.43860633e-02 -2.59827860e-01 -1.15258570e-01  7.98836259e-02\n",
      "  3.71384584e-01  2.16589093e-01  8.91566274e-02  4.60654339e-02\n",
      " -1.39815509e-01  6.24018453e-02 -6.53789836e-02 -5.28785781e-02\n",
      " -1.54453777e-02 -1.29696686e-01 -5.69880757e-01 -8.61925148e-02\n",
      "  2.43056403e-01 -6.32163536e-02  3.16859100e-01  2.36078721e-01\n",
      "  1.09130101e-01  1.51480445e-01 -8.57549274e-02 -4.74906904e-02\n",
      "  1.33115756e-01 -1.97017307e-02  2.48499833e-01  5.76425340e-02\n",
      "  2.06668476e-01  4.50977045e-02 -2.40166000e-01 -1.81098016e-01\n",
      " -1.93562894e-01 -3.52845435e-01  1.28402930e-01  2.80319351e-01\n",
      " -6.91325157e-03  6.58734083e-02  4.70895103e-03 -4.31475699e-02\n",
      "  7.71405982e-02 -2.72394712e-01  1.20609444e-02  7.68152594e-02\n",
      " -1.87314090e-01 -9.67064103e-02 -1.17775458e-01 -1.53566381e-01\n",
      " -1.73581426e-01 -3.18966284e-01 -1.87173211e-01  3.85071593e-02\n",
      "  1.15981875e-01 -2.33958270e-01 -6.34175268e-03  1.29481000e-01\n",
      " -6.41863539e-02  1.82073276e-01 -7.86430972e-02  8.56680885e-02\n",
      "  1.13076398e-02 -1.61327968e-01  2.55340702e-01 -2.24854248e-01\n",
      " -1.93476157e-01 -1.66836405e-02 -1.17577150e-01 -3.27073770e-02\n",
      "  2.14806383e-01 -7.32429381e-02  1.35509966e-01 -7.98346836e-02\n",
      " -2.80565810e-01 -9.67120031e-02 -2.76884067e-02  6.16425769e-02\n",
      " -8.27610869e-02  7.24073019e-02  3.38541680e-01  1.03242565e-01\n",
      "  1.01533645e-01 -4.85830811e-02  5.97032429e-02 -1.68696981e-01\n",
      "  1.74775768e-01  2.86576027e-02 -1.63944219e-01 -9.36070307e-03\n",
      "  1.92060353e-03 -4.43437259e-02 -1.79797100e-02  1.68988454e-01\n",
      " -5.42657373e-02 -2.17948372e-01 -1.57869814e-01 -2.23193789e-01\n",
      "  5.33361110e-02 -9.88557642e-02  1.25519266e-01  6.50690487e-02\n",
      "  2.73267611e-02 -6.07089206e-02 -1.40002724e-01 -9.35281553e-02\n",
      "  9.82940005e-02 -8.57521929e-02 -3.02469037e-02  1.34550653e-02\n",
      "  7.20062524e-02 -1.98656547e-02  2.63233345e-01 -9.62531939e-02\n",
      " -2.57128112e-01 -9.23710281e-02  1.09524453e-01  1.01021745e-01\n",
      " -1.43546324e-01  1.31574227e-01  2.41015094e-01 -9.65702161e-02\n",
      " -2.73776412e-01  7.12435026e-02  2.06253386e-01  5.40700593e-02\n",
      "  7.11759057e-02 -2.88185614e-02  3.58983772e-01 -6.19214912e-03\n",
      "  1.19766575e-01  8.49417016e-03 -2.14707198e-02  3.02330013e-02\n",
      "  3.40172606e-02  6.90069725e-02 -2.26831097e-02 -5.14026691e-02\n",
      "  9.14045269e-02 -8.63251015e-02 -2.58049711e-01 -8.71021046e-02\n",
      "  2.62454677e-01 -3.63751867e-02 -1.86449724e-01 -7.80167618e-02\n",
      "  1.19553552e-01  2.27123308e-01 -1.04516253e-01  1.20090295e-01\n",
      "  7.19413064e-02 -5.04431718e-02 -1.41895133e-01  8.43155849e-02\n",
      "  1.58456186e-01 -2.68487090e-02  8.23686631e-02  2.57352231e-02\n",
      "  2.47318997e-01  2.78822059e-02  1.24765584e-01 -2.17554821e-01\n",
      " -2.75222487e-02  1.86525262e-02  3.42411147e-02  4.92448438e-02\n",
      " -1.53238616e-01  4.93621604e-02  2.84883939e-01 -1.14995591e-01\n",
      "  9.88545607e-03  6.98129679e-02  1.83395633e-01  1.28149346e-01\n",
      " -2.10832779e-01 -6.90724214e-02  2.21060682e-01  9.09841760e-02\n",
      " -1.55730235e-01  4.91440026e-02 -1.57286061e-01  4.96172195e-02\n",
      "  7.32688832e-02  9.79995014e-02 -1.22333439e-02 -1.74852545e-01\n",
      "  3.08165469e-02 -1.32585981e-01  7.66516368e-02  2.97132131e-02\n",
      " -7.02639666e-02 -3.42987232e-01  5.26985041e-02 -2.13069694e-02\n",
      "  2.60793340e-02  2.15230719e-01 -1.29290508e-01 -5.06954569e-02\n",
      "  1.09691138e-01  3.93786262e-02  1.13128224e-01  1.74761636e-01\n",
      "  1.44517126e-02 -4.81112436e-02 -1.79770554e-01  6.19283839e-02\n",
      "  1.26959443e-02  2.50928946e-02 -7.78912093e-02  7.87337979e-02\n",
      " -9.59919049e-02  1.25802325e-01 -9.80985704e-02 -2.47205515e-02\n",
      " -6.86992839e-02  9.21759938e-02 -1.78647560e-02 -2.96290553e-02\n",
      "  3.79196648e-02  7.56044288e-02 -1.61038022e-01 -1.64762066e-01\n",
      "  8.38639000e-02 -5.05941794e-02  2.63529780e-03  1.82692038e-01\n",
      " -3.43380903e-02  8.07549352e-02 -8.00999970e-02  2.33611563e-02\n",
      " -1.32862616e-01 -2.42145826e-02  9.18825787e-02 -1.43984037e-01\n",
      "  6.42339402e-02 -4.78241033e-02 -4.96060600e-02  1.12252967e-01\n",
      "  2.95025540e-03  1.12203950e-01  1.20765546e-01  4.36411767e-02\n",
      " -1.87952057e-01 -4.13986990e-02  1.01318327e-02 -7.56441691e-02\n",
      " -9.72095998e-03  2.25773289e-01  6.77935980e-03  2.55247701e-02\n",
      "  3.36730014e-02 -6.22464940e-02  4.03606686e-02 -8.07634917e-02\n",
      " -7.90878668e-02 -4.26606805e-02 -2.47660963e-01 -7.56673033e-03\n",
      "  3.00889479e-01 -5.21862482e-02 -7.18347998e-03 -1.57077344e-01\n",
      "  1.92213060e-01 -1.91021745e-01  1.39529110e-01 -4.35228358e-02\n",
      " -1.66844430e-02  2.19328786e-02 -4.28250568e-02 -3.25029715e-02\n",
      "  1.44087874e-01 -2.73907283e-03 -6.67290604e-03 -1.10935461e-01\n",
      "  1.80037191e-02 -1.82653213e-01  5.70534209e-02  7.15285891e-02\n",
      " -1.27700860e-01 -1.63796206e-01  5.80975611e-02 -3.45675347e-02\n",
      "  1.12154537e-01 -1.14629478e-01 -1.62377330e-02 -1.07834083e-01\n",
      " -1.49863210e-01 -2.11104035e-01  2.43521704e-01  4.74684340e-03\n",
      "  4.53485821e-02 -3.42624246e-02  4.69351857e-02 -1.54577701e-02\n",
      "  2.93649996e-02  6.61591595e-02 -2.25111822e-02 -8.68042876e-03\n",
      "  8.33722277e-02 -1.37420457e-01  3.80480294e-02 -1.65450058e-02\n",
      "  7.80825314e-02 -1.06976275e-01  5.86058860e-02 -5.30372445e-02\n",
      "  1.12122470e-01 -1.30921070e-01 -1.33893971e-01 -1.83679330e-01\n",
      " -1.63779464e-01  7.92657965e-02  1.82702025e-01 -1.98537118e-01\n",
      "  1.04043857e-01 -1.35363913e-01  4.24319123e-02 -5.28234358e-02\n",
      " -4.31832912e-03  1.33662527e-01 -1.55767283e-01 -9.05821428e-02\n",
      "  5.93142145e-02 -3.28931032e-02  1.63814807e-02  5.11322037e-02\n",
      " -2.50477833e-02  3.11236367e-02  1.70763455e-01 -5.89703033e-02\n",
      " -3.30141545e-02  5.43137428e-02  4.90425657e-02 -2.88468040e-02\n",
      "  2.05058914e-02  9.44813183e-02  1.70335731e-02 -5.75006746e-02\n",
      " -5.84581986e-02  2.57600885e-02 -2.19562433e-01  1.29579156e-01\n",
      " -7.56965678e-02 -1.17682498e-01  1.70554100e-02 -1.74247348e-01\n",
      "  8.82307494e-02  1.31925170e-01 -3.98680367e-02  2.19935725e-02\n",
      " -5.44032183e-02 -6.58884536e-02 -1.07894843e-01  3.31348242e-02\n",
      " -2.09193531e-01 -9.17744210e-02  7.56497271e-02 -1.70210647e-01\n",
      " -1.29488339e-01  1.26084304e-01 -1.66925790e-01  1.50925306e-01\n",
      "  1.18368798e-01  5.01801627e-02 -1.83839259e-02  2.17057672e-02\n",
      " -2.80392246e-02  5.27498486e-02 -1.52803918e-01  4.90995957e-02\n",
      " -3.04069867e-02 -5.53152846e-02 -1.59871462e-01  2.64457601e-02\n",
      " -1.15873043e-01 -5.01054807e-02 -5.58427481e-02  2.60767869e-02\n",
      "  2.70133243e-02 -6.08929807e-02  7.80892084e-02  7.09917170e-02\n",
      " -2.06923797e-01  1.26789816e-01 -2.75870522e-01  6.81922412e-03\n",
      "  3.29139522e-02 -1.94100023e-01 -1.46655065e-01  1.39265831e-01\n",
      " -9.34066964e-02  8.00391537e-02  1.47514720e-02 -2.89309009e-02\n",
      "  1.13137450e-01  1.43093281e-02  1.06923476e-01 -6.51734315e-02\n",
      " -8.78373550e-02 -7.96103264e-02 -3.63612483e-02 -1.20379201e-01\n",
      "  6.99127102e-02  6.03195517e-02  1.42454010e-02  1.87202923e-02\n",
      " -1.09123005e-01  7.67479709e-02 -1.09585485e-01  6.19237543e-02\n",
      " -6.43297486e-02  1.54096198e-01 -1.09280520e-01  1.03114215e-01\n",
      " -1.43370019e-01  1.98848735e-01 -1.07796044e-01 -3.09240430e-02\n",
      "  9.29924827e-02  5.95331833e-02 -7.77697362e-02  8.65823296e-02\n",
      " -1.25139441e-01  3.36575307e-02  7.99984498e-02 -1.34857184e-01\n",
      "  1.23570456e-01 -1.34414669e-01  2.60095646e-01 -6.40158671e-02\n",
      " -1.22589564e-01  9.34656324e-02  1.28653048e-01 -4.44546131e-02\n",
      "  1.40054208e-01 -7.40182292e-02  5.88070921e-02  1.15933600e-01\n",
      " -7.60798621e-02  8.63425387e-02 -9.68937577e-02  1.30639633e-01\n",
      "  5.28894856e-02  5.19933089e-02  2.55376084e-02  1.78652282e-01\n",
      " -9.23889092e-02  4.41351597e-02  1.04015260e-01 -1.22475120e-01\n",
      " -2.70029075e-02  6.27385106e-02 -3.26903335e-02  9.65907582e-02\n",
      " -3.63712660e-02 -1.27461875e-01 -3.20996239e-02 -9.02503413e-02\n",
      "  1.74689701e-01 -2.01866940e-02 -5.67972070e-02  1.28954123e-01\n",
      " -6.40784250e-03 -6.67834371e-02  9.65315396e-02 -1.64176627e-01\n",
      "  1.55904058e-01 -3.57822652e-02  1.79477872e-02 -3.64724105e-02\n",
      "  1.13760367e-01  5.28377635e-03 -7.57879781e-02  4.72153184e-02\n",
      " -4.61886676e-02  5.22180401e-02 -2.14941780e-02 -7.76775441e-02\n",
      "  3.61529524e-02 -1.77989868e-01  5.13006959e-02  4.24845008e-02\n",
      "  7.63919522e-02  3.00339851e-02 -3.38081292e-02  7.95177555e-02\n",
      " -7.57647798e-02 -5.46068679e-04 -1.09686707e-01  1.02058712e-02\n",
      "  6.38618708e-02 -3.11194318e-04  5.59206067e-03  3.14513478e-02\n",
      "  7.40486647e-02 -3.87885771e-02 -2.39272962e-02 -7.46294828e-02\n",
      " -9.03443336e-02 -6.08357136e-02  1.36712226e-01 -8.24378326e-02\n",
      " -1.04456760e-01 -2.60774372e-02 -4.72596428e-02  1.05506605e-02\n",
      "  4.95844240e-02 -3.22159905e-02  1.10659636e-01 -6.12673979e-02\n",
      "  5.81924623e-02 -1.32336815e-02  3.61506268e-02  9.93905999e-03\n",
      " -7.67233836e-02  7.45435691e-02 -1.18429469e-02  1.80537887e-01\n",
      " -5.33988351e-02  1.08244802e-01  1.15955139e-01 -2.79431863e-02\n",
      "  7.32264502e-02  6.86241249e-02  4.39413209e-02  9.66262631e-02\n",
      " -1.53358873e-01  6.93547409e-02 -1.44736688e-01  1.52456302e-02\n",
      " -3.81166093e-03  2.05335767e-03 -1.33983792e-02 -3.77258859e-02\n",
      "  6.18146898e-02  5.93526565e-02  6.75356573e-02  3.16814672e-02\n",
      "  1.25889148e-01 -6.11855771e-02  2.53052072e-02 -5.24092488e-02\n",
      "  7.23663271e-02 -2.48595504e-02 -3.73556978e-02  6.33919111e-02\n",
      " -3.92716812e-02  3.00119356e-01  1.17357518e-01  1.13597798e-01\n",
      "  3.76651613e-02  2.10447269e-02 -1.78210202e-02  2.91609655e-02\n",
      " -1.34496150e-01  6.99601307e-02  2.44377723e-02  3.18623729e-02\n",
      " -3.20033664e-02  3.08670058e-02 -1.48073997e-01  5.93299480e-02\n",
      "  1.30162174e-02  8.96414057e-04  7.47246743e-02 -5.58182998e-02\n",
      " -5.91285571e-02 -5.82437999e-02 -8.17853345e-02 -1.31924776e-01\n",
      " -2.08940417e-02 -4.24312498e-02  2.52369366e-02 -4.46221994e-02\n",
      "  1.09490908e-02  6.23821515e-02 -9.53049795e-02  8.76395682e-02\n",
      " -1.16731984e-01 -5.58887011e-02 -4.82166391e-02 -2.92891235e-02\n",
      " -6.41877977e-02  6.17836825e-02 -7.75143739e-02  1.55423499e-03\n",
      "  1.53402998e-01 -6.96778343e-02 -4.52235200e-02 -9.52889672e-03\n",
      " -4.82179653e-02  2.22567162e-02 -2.42267525e-02  1.90138531e-02\n",
      " -9.80728745e-02 -9.01727700e-02  2.26675375e-03 -6.13081445e-02\n",
      "  4.02652791e-02 -1.15068842e-01  2.92447526e-02 -1.34251523e-02\n",
      " -1.58864161e-01  7.33174090e-02 -7.19280817e-02 -6.10016950e-02\n",
      " -1.48971821e-02 -2.29190918e-02 -1.70371683e-01 -4.82951609e-02\n",
      " -4.59832702e-03 -3.86949462e-02 -1.09173530e-02  9.01731665e-02\n",
      "  9.04847771e-02  8.02174638e-04  4.26342129e-02  7.88906496e-03\n",
      " -2.49709359e-02  9.76984242e-03  7.24375022e-02  4.71727366e-02\n",
      "  4.91682762e-02  7.75708023e-02 -8.15544597e-02  1.02212298e-02\n",
      "  9.73107892e-02  2.37034313e-02  1.90994736e-01 -1.08374983e-01\n",
      "  8.35615553e-02  1.96427021e-02 -1.60344388e-01  8.72212547e-02\n",
      " -3.66025505e-02 -2.93969444e-02  7.14403488e-02  5.03582148e-02\n",
      "  7.15421040e-02  3.86917314e-02  4.13135137e-02  6.45124262e-02\n",
      " -4.24339599e-02 -2.44442672e-02  5.49596656e-02 -3.27954695e-02\n",
      " -8.66305765e-03  8.38703607e-02  4.77703724e-02 -2.06073730e-02\n",
      "  5.22127725e-02  3.45425950e-02  5.98884976e-02  2.58544236e-02\n",
      "  6.48100934e-02  4.49393759e-02  2.40356794e-02 -3.06808616e-03\n",
      "  8.54533855e-02 -1.63620246e-01  5.89594853e-02  1.53857703e-02\n",
      "  2.82987898e-02 -5.15163025e-02 -2.17234119e-02  8.07401736e-02\n",
      "  4.42783712e-02  8.84029570e-02 -2.62351599e-03 -5.39074074e-02\n",
      " -9.67605826e-04  1.40777188e-01  1.94605623e-02 -1.11826743e-01\n",
      " -2.53543571e-02 -1.56231809e-02  1.34825523e-01  2.71012217e-02\n",
      "  3.55166193e-02 -4.87940620e-02 -2.90677783e-02  1.57531164e-02\n",
      " -7.67441360e-02 -2.62105077e-02  5.87216917e-02 -4.57803983e-02\n",
      " -1.13395553e-02 -3.60873040e-02  4.74045470e-02 -2.60333481e-02\n",
      "  1.13932875e-02 -2.99541920e-02  7.30643715e-02 -7.09444506e-02\n",
      " -5.15165107e-02  6.06374059e-02  3.84614716e-02  8.12708439e-02\n",
      " -1.67520546e-01 -5.62710554e-02  4.71348266e-02  5.31504954e-02\n",
      "  1.94301376e-01 -4.60789637e-02  3.05170864e-02 -3.80398708e-02\n",
      "  1.42132724e-01 -4.42832225e-02 -2.15097378e-02  4.42180476e-02\n",
      "  7.56004075e-02 -1.43414855e-02 -4.06353757e-02  4.58389392e-02\n",
      "  8.13707946e-02 -1.57066799e-02  1.82522198e-01  7.40819153e-02\n",
      "  1.29652037e-01  2.41978653e-02  3.98994584e-02 -3.33562381e-02\n",
      " -2.91126539e-02  1.92643010e-02  2.28676404e-02  4.02695308e-02\n",
      "  7.32024450e-02  8.74317376e-02  4.09685189e-02  5.98391650e-02\n",
      "  1.73359005e-01 -8.19193933e-02  1.07947315e-01 -1.09223932e-01\n",
      "  7.27800822e-03 -1.80448401e-01 -2.04289474e-03 -1.98999649e-02\n",
      " -8.56313143e-02  6.68746880e-02  2.01787372e-01 -1.00149060e-01\n",
      "  9.27611673e-02 -4.84134299e-02  1.50565932e-01 -3.90906553e-02\n",
      "  1.08275018e-01  2.53673127e-02 -2.20903293e-02 -1.31190624e-01\n",
      " -2.22482114e-02 -2.52182141e-02  1.60286914e-02 -5.08813391e-02\n",
      "  8.90257940e-04 -4.42679275e-02  1.05105678e-01 -8.60577351e-02\n",
      "  1.50408944e-01 -6.28174462e-02  1.80691477e-01 -9.79370587e-02\n",
      "  8.46525098e-02 -1.20478631e-01 -5.06147645e-03 -8.10668701e-02\n",
      "  5.07743159e-02 -3.02302807e-02 -6.99100012e-02 -5.79075683e-02\n",
      "  4.34513284e-02 -1.07463231e-01  1.85825461e-02 -1.61787035e-01\n",
      " -6.43834919e-03 -5.27195118e-02 -1.46609978e-01 -2.93151185e-02\n",
      " -9.92484006e-02 -3.06215776e-02 -2.12251242e-02 -1.32798903e-02\n",
      "  4.38868282e-02 -6.09784810e-02 -9.06611377e-02  7.20257038e-03\n",
      "  1.27313404e-01 -9.04941804e-02 -4.98591629e-02 -9.82163959e-02\n",
      "  7.19596697e-02  4.02829027e-02  2.38902365e-01  9.36980457e-02\n",
      "  2.60111931e-02  1.23576092e-01  1.53326019e-01 -9.50220162e-02\n",
      "  5.85573335e-02 -3.11072741e-02 -1.14182130e-01  8.69705178e-02\n",
      " -7.04522565e-02 -2.27598552e-03 -2.89985684e-02  9.62427023e-02\n",
      "  4.86196941e-02  2.08030075e-01  1.19936047e-01  1.35733958e-01\n",
      "  3.83193805e-02 -4.33898835e-02 -1.01094619e-01  4.48464696e-02\n",
      "  7.68593942e-02  4.98872937e-02  8.79110441e-02  9.98308236e-02\n",
      "  7.83921913e-03  1.03773230e-01 -5.10691134e-02 -4.33340266e-02\n",
      " -8.87957793e-02  1.88883741e-03 -2.72593073e-01 -1.23543665e-01\n",
      "  2.67565657e-02 -1.66821177e-01  5.09982063e-02  3.36024830e-02\n",
      " -4.07821854e-02  1.16175081e-01  3.92970556e-02 -3.03339726e-02\n",
      " -1.87099375e-02 -8.61443212e-02 -1.04342459e-01  3.23310484e-02\n",
      " -1.28766894e-01 -1.86844294e-01 -1.04747106e-01 -3.84025725e-02\n",
      " -2.29662697e-02 -1.48517355e-01 -6.57382671e-02 -1.41773656e-01\n",
      "  1.38027997e-01 -7.05007684e-02 -1.25805882e-01  8.19395148e-02\n",
      " -8.12884308e-02  1.61055083e-01 -3.37151978e-02  3.68755048e-02\n",
      " -1.16146936e-01  9.21131394e-02  1.15439267e-01 -6.86228834e-04\n",
      "  1.14391562e-01 -1.50954260e-01  1.04523338e-01 -2.80161263e-01\n",
      "  4.17642816e-02 -1.49019202e-01  5.02660593e-02 -7.44238456e-02\n",
      "  8.82449567e-02 -1.07874719e-01 -8.66508099e-02  2.56827928e-01\n",
      " -8.62238723e-02  1.72128078e-01 -7.31644337e-02  3.07790088e-01]\n"
     ]
    }
   ],
   "source": [
    "K=5\n",
    "alpha_grid = np.append(np.array([i * 0.05 for i in range(20)]),\\\n",
    "                       np.array([i for i in range(1,20)]))\n",
    "\n",
    "validation_error =lambda alpha: KFold_cross_validation(aud_data_inputs,audio_labels, K,\\\n",
    "                                                       lambda data_matrix,data_outputs: ridge_regression(data_matrix, data_outputs,regularisation = alpha), \\\n",
    "                                                       lambda data_matrix, data_outputs, weights: prediction_error(data_matrix, data_outputs, weights))[1]\n",
    "\n",
    "optimal_alpha = grid_search(validation_error, alpha_grid)\n",
    "\n",
    "optimal_weights = KFold_cross_validation(aud_data_inputs, audio_labels, K,\\\n",
    "                lambda data_matrix,data_outputs: ridge_regression(data_matrix, data_outputs, regularisation = optimal_alpha),\\\n",
    "                lambda data_matrix, data_outputs, weights: prediction_error(data_matrix, data_outputs, weights))[0]\n",
    "\n",
    "print( \"An optimal value of regularisation parameter is {}.\\nFor this value of \\\n",
    "    regularisation parameter one gets optimal weights of the form \\n{}\"\\\n",
    "      .format(optimal_alpha, optimal_weights))"
   ]
  },
  {
   "cell_type": "code",
   "execution_count": null,
   "id": "8b3cfff6",
   "metadata": {},
   "outputs": [],
   "source": []
  },
  {
   "cell_type": "code",
   "execution_count": null,
   "id": "7edae3fa",
   "metadata": {},
   "outputs": [],
   "source": []
  }
 ],
 "metadata": {
  "kernelspec": {
   "display_name": "Python 3 (ipykernel)",
   "language": "python",
   "name": "python3"
  },
  "language_info": {
   "codemirror_mode": {
    "name": "ipython",
    "version": 3
   },
   "file_extension": ".py",
   "mimetype": "text/x-python",
   "name": "python",
   "nbconvert_exporter": "python",
   "pygments_lexer": "ipython3",
   "version": "3.8.12"
  }
 },
 "nbformat": 4,
 "nbformat_minor": 5
}
