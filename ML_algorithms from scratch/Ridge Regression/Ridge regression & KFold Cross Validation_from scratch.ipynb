{
 "cells": [
  {
   "cell_type": "code",
   "execution_count": 1,
   "id": "604055be",
   "metadata": {},
   "outputs": [],
   "source": [
    "#Loading libraries\n",
    "import numpy as np\n",
    "import matplotlib.pyplot as plt\n",
    "%matplotlib inline"
   ]
  },
  {
   "cell_type": "markdown",
   "id": "97eae344",
   "metadata": {},
   "source": [
    "#### Implement function ridge_regression_data that computes the ridge regression data matrix"
   ]
  },
  {
   "cell_type": "code",
   "execution_count": 2,
   "id": "3b5271b0",
   "metadata": {},
   "outputs": [],
   "source": [
    "def ridge_regression_data(data_inputs, degree=1):\n",
    "    if (degree>1 and data_inputs.ndim>1):\n",
    "        raise NotImplementedError()\n",
    "    if (data_inputs.ndim==1):\n",
    "        d_mat=np.ones((len(data_inputs),1))\n",
    "        for i in range(degree):\n",
    "            d_mat=np.c_[d_mat,np.power(data_inputs,i+1)]\n",
    "    else:\n",
    "        first_c=np.ones((len(data_inputs),1))\n",
    "        d_mat=np.c_[first_c,data_inputs]\n",
    "    return d_mat"
   ]
  },
  {
   "cell_type": "code",
   "execution_count": 3,
   "id": "a4afd9a8",
   "metadata": {},
   "outputs": [
    {
     "data": {
      "text/plain": [
       "array([[1., 1., 2.],\n",
       "       [1., 2., 3.],\n",
       "       [1., 3., 4.],\n",
       "       [1., 4., 5.]])"
      ]
     },
     "execution_count": 3,
     "metadata": {},
     "output_type": "execute_result"
    }
   ],
   "source": [
    "test_inputs = np.array([[1, 2], [2, 3], [3, 4], [4, 5]])\n",
    "ridge_regression_data(test_inputs)"
   ]
  },
  {
   "cell_type": "markdown",
   "id": "079c77cd",
   "metadata": {},
   "source": [
    "Function **ridge_regression** takes three arguments *data_matrix*, *data_outputs* and *regularisation*, which computes and returns the solution $\\hat{\\mathbf{W}}$ of the normal equation\n",
    "$\n",
    "\\left(\\Phi^{\\top}\\left(\\mathbf{X}\\right)\\Phi\\left(\\mathbf{X}\\right) +\\alpha I \\right)\\hat{\\mathbf{W}} = \\Phi^{\\top}\\left(\\mathbf{X}\\right)\\mathbf{Y}\n",
    "$"
   ]
  },
  {
   "cell_type": "code",
   "execution_count": 4,
   "id": "979e35c0",
   "metadata": {},
   "outputs": [],
   "source": [
    "def ridge_regression(data_matrix, data_outputs, regularisation=0):\n",
    "    P=data_matrix\n",
    "    a=regularisation\n",
    "    Y=data_outputs\n",
    "    Id=np.identity(len(data_matrix.T))\n",
    "    return np.linalg.solve(P.T @ P + a * Id, P.T @ Y)"
   ]
  },
  {
   "cell_type": "code",
   "execution_count": 5,
   "id": "fa7deeb6",
   "metadata": {},
   "outputs": [
    {
     "data": {
      "text/plain": [
       "array([[0.03737123],\n",
       "       [0.05328597]])"
      ]
     },
     "execution_count": 5,
     "metadata": {},
     "output_type": "execute_result"
    }
   ],
   "source": [
    "test_inputs = np.array([[0.98], [1.02]])\n",
    "test_outputs = np.array([[-0.1], [0.3]])\n",
    "test_data_matrix = ridge_regression_data(test_inputs)\n",
    "regularisation = 0.5\n",
    "ridge_regression(test_data_matrix, test_outputs, regularisation)"
   ]
  },
  {
   "cell_type": "markdown",
   "id": "017226ee",
   "metadata": {},
   "source": [
    "**prediction_function**  evaluates the predicted regression function at given points $\\mathbf{X} = \n",
    "\\left\\{x^{(1)}, x^{(2)}, \\ldots, x^{(s)}\\right\\}$ for given coefficients $\\mathbf{W} = \\left(w^{(0)}, w^{(1)},\\ldots,w^{(d)}\\right)$"
   ]
  },
  {
   "cell_type": "code",
   "execution_count": 6,
   "id": "778c1a3a",
   "metadata": {},
   "outputs": [],
   "source": [
    "def prediction_function(data_matrix, weights):\n",
    "    return data_matrix@weights"
   ]
  },
  {
   "cell_type": "code",
   "execution_count": 7,
   "id": "8ea0ed64",
   "metadata": {},
   "outputs": [
    {
     "data": {
      "text/plain": [
       "array([[ 7., 21.]])"
      ]
     },
     "execution_count": 7,
     "metadata": {},
     "output_type": "execute_result"
    }
   ],
   "source": [
    "test_inputs = np.array([[1, 2, 3]])\n",
    "test_weights = np.array([[-1, 1], [2, 2], [-3, 3], [4, 4]])\n",
    "test_data_matrix = ridge_regression_data(test_inputs)\n",
    "prediction_function(test_data_matrix, test_weights)"
   ]
  },
  {
   "cell_type": "markdown",
   "id": "f4dfe9e2",
   "metadata": {},
   "source": [
    "Function **prediction_error** evaluates a mean-squared error over the set of data inputs and outputs"
   ]
  },
  {
   "cell_type": "code",
   "execution_count": 8,
   "id": "9e365491",
   "metadata": {},
   "outputs": [],
   "source": [
    "def prediction_error(data_matrix, data_outputs, weights):\n",
    "    s=len(data_matrix)\n",
    "    P=data_matrix\n",
    "    W=weights\n",
    "    Y=data_outputs\n",
    "    return 1 / (2 * s) * (np.linalg.norm(P @ W - Y))**2"
   ]
  },
  {
   "cell_type": "code",
   "execution_count": 9,
   "id": "c3057c49",
   "metadata": {},
   "outputs": [
    {
     "data": {
      "text/plain": [
       "36.75"
      ]
     },
     "execution_count": 9,
     "metadata": {},
     "output_type": "execute_result"
    }
   ],
   "source": [
    "test_inputs = np.array([[1, -1], [2, 2]])\n",
    "test_data_outputs = np.array([[-1, 2], [1, 3]])\n",
    "test_data_matrix = ridge_regression_data(test_inputs)\n",
    "test_weights = np.array([[0, 0], [1, 2], [3, 4]])\n",
    "prediction_error(test_data_matrix, test_data_outputs, test_weights)"
   ]
  },
  {
   "cell_type": "markdown",
   "id": "4e270e01",
   "metadata": {},
   "source": [
    "### K-fold cross validation\n",
    "\n",
    "Function **KFold_split** takes two arguments *data_size* and *K* and outputs a random split of integer indexes $\\left[0,1,\\ldots,data\\_size\\right)$ into $K$ almost equal chunks."
   ]
  },
  {
   "cell_type": "code",
   "execution_count": 10,
   "id": "caec79eb",
   "metadata": {},
   "outputs": [],
   "source": [
    "def KFold_split(data_size, K):\n",
    "    np.random.seed(212)\n",
    "    ind = np.random.permutation(data_size)\n",
    "    m, r = divmod(data_size, K)\n",
    "    ind_split = [ind[i * m + min(i,r):(i + 1) * m + min(i + 1, r)]for i in range(K)]\n",
    "    return ind_split"
   ]
  },
  {
   "cell_type": "markdown",
   "id": "1cc85901",
   "metadata": {},
   "source": [
    "The function **KFold_cross_validation** should return a matrix/vector of coefficients/weights and a validation error that are both evaluated as averages of optimal weights and validation error of every iteration step."
   ]
  },
  {
   "cell_type": "code",
   "execution_count": 11,
   "id": "e26d3af3",
   "metadata": {},
   "outputs": [],
   "source": [
    "def KFold_cross_validation(data_matrix, data_outputs, K, model_evaluation,\n",
    "                           error_evaluation):\n",
    "    data_size = len(data_matrix)\n",
    "    ind_split = KFold_split(data_size, K)\n",
    "    for i in range(K):\n",
    "        indexes = np.concatenate([ind_split[j] for j in range(K) if (j != i)])\n",
    "        weights = model_evaluation(data_matrix[indexes], data_outputs[indexes])\n",
    "        error = error_evaluation(data_matrix[ind_split[i]],\n",
    "                             data_outputs[ind_split[i]], weights)\n",
    "        if (i == 0):\n",
    "            optimal_weights = weights / K\n",
    "            validation_error = error / K\n",
    "        else:\n",
    "            optimal_weights += weights / K\n",
    "            validation_error += error / K\n",
    "    return optimal_weights, validation_error"
   ]
  },
  {
   "cell_type": "markdown",
   "id": "36379696",
   "metadata": {},
   "source": [
    "### Data standardisation"
   ]
  },
  {
   "cell_type": "code",
   "execution_count": 12,
   "id": "0e6e49cf",
   "metadata": {},
   "outputs": [],
   "source": [
    "def standardise(data_matrix):\n",
    "    row_means = np.mean(data_matrix, axis=0)\n",
    "    std_matrix = data_matrix - row_means\n",
    "    row_stds = np.std(std_matrix, axis=0)\n",
    "    return (std_matrix / row_stds), row_means, row_stds"
   ]
  },
  {
   "cell_type": "code",
   "execution_count": 14,
   "id": "f87d28ad",
   "metadata": {},
   "outputs": [],
   "source": [
    "def de_standardise(std_matrix, row_means, row_stds):\n",
    "    matrix = np.copy(std_matrix * row_stds)\n",
    "    return matrix + row_means"
   ]
  },
  {
   "cell_type": "markdown",
   "id": "04e62e41",
   "metadata": {},
   "source": [
    "### Apply all the above tools for training a model predicting housing prices in Boston"
   ]
  },
  {
   "cell_type": "code",
   "execution_count": 15,
   "id": "7f8ea8fd",
   "metadata": {},
   "outputs": [],
   "source": [
    "#Loading the data\n",
    "\n",
    "housing_dataset_path = \"house_prices.csv\"\n",
    "housing_data = np.genfromtxt(housing_dataset_path,\n",
    "                             delimiter=\",\",\n",
    "                             skip_header=1,\n",
    "                             usecols=[0, 1, 2, 3, 4, 5, 6, 7])\n",
    "housing_data_input = housing_data[:, 0:7]\n",
    "housing_data_output = housing_data[:, 7]"
   ]
  },
  {
   "cell_type": "code",
   "execution_count": 17,
   "id": "11ba05b3",
   "metadata": {},
   "outputs": [],
   "source": [
    "std_input, input_mean, input_SD = standardise(housing_data_input)\n",
    "std_output, output_mean, output_SD = standardise( housing_data_output)"
   ]
  },
  {
   "cell_type": "code",
   "execution_count": 18,
   "id": "f1bbc9b4",
   "metadata": {},
   "outputs": [],
   "source": [
    "#grid_search performs a search for a minimum value of a given function on a given grid points\n",
    "def grid_search(objective, grid):\n",
    "    values = np.array([])\n",
    "    for point in grid:\n",
    "        values = np.append(values, objective(point))\n",
    "    return grid[np.argmin(values)]"
   ]
  },
  {
   "cell_type": "code",
   "execution_count": 20,
   "id": "0f788c69",
   "metadata": {},
   "outputs": [
    {
     "name": "stdout",
     "output_type": "stream",
     "text": [
      "An optimal value of regularisation parameter is 19.0.\n",
      "For this value of regularisation parameter one gets optimal weights of the form \n",
      "[-0.00682014  0.06899114  0.44764439  0.03139397  0.15058687  0.26429561\n",
      "  0.15906673]\n"
     ]
    }
   ],
   "source": [
    "K = 5\n",
    "alpha_grid = np.append(np.array([i * 0.05 for i in range(20)]),\n",
    "                       np.array([i for i in range(1, 20)]))\n",
    "\n",
    "validation_error = lambda alpha: KFold_cross_validation(s_input, s_output, K,\\\n",
    "                                                        lambda data_matrix, data_outputs: ridge_regression(data_matrix, data_outputs, regularisation =alpha),\\\n",
    "                                                       lambda data_matrix, data_outputs, weights: prediction_error(data_matrix, data_outputs, weights))[1]\n",
    "\n",
    "optimal_alpha = grid_search(validation_error, alpha_grid)\n",
    "\n",
    "optimal_weights = KFold_cross_validation(s_input, s_output, K,\\\n",
    "lambda data_matrix, data_outputs: ridge_regression(data_matrix, data_outputs, regularisation = optimal_alpha),\\\n",
    "lambda data_matrix, data_outputs, weights: prediction_error(data_matrix, data_outputs, weights))[0]\n",
    "\n",
    "print(\"An optimal value of regularisation parameter is {}.\\nFor this value of regularisation parameter one gets optimal weights of the form \\n{}\"\n",
    "    .format(optimal_alpha, optimal_weights))"
   ]
  },
  {
   "cell_type": "code",
   "execution_count": null,
   "id": "459ad71f",
   "metadata": {},
   "outputs": [],
   "source": []
  }
 ],
 "metadata": {
  "kernelspec": {
   "display_name": "Python 3 (ipykernel)",
   "language": "python",
   "name": "python3"
  },
  "language_info": {
   "codemirror_mode": {
    "name": "ipython",
    "version": 3
   },
   "file_extension": ".py",
   "mimetype": "text/x-python",
   "name": "python",
   "nbconvert_exporter": "python",
   "pygments_lexer": "ipython3",
   "version": "3.8.12"
  }
 },
 "nbformat": 4,
 "nbformat_minor": 5
}
