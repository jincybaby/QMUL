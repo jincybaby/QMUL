{
 "cells": [
  {
   "cell_type": "markdown",
   "id": "5b98faa1",
   "metadata": {},
   "source": [
    "# Route planner for London #\n",
    "\n",
    "This is the main code for the route planner. Widgets are provided to input the required values. The functions introduced are utilised to process the data and for filtering. The output gives a selection of options from which one can choose to output the shortest path for the chosen location"
   ]
  },
  {
   "cell_type": "markdown",
   "id": "0b7623a7",
   "metadata": {},
   "source": [
    "## Requirements for the project\n",
    "\n",
    "packages - geopy, geopandas, numpy, utm, folium, geog, json, shapely, plotly_express, matplotlib, osmnx, networkx\n",
    "\n",
    "Additional packages used - warnings (to ignore the ShapelyDeprecationWarning)"
   ]
  },
  {
   "cell_type": "code",
   "execution_count": 1,
   "id": "df0898f4",
   "metadata": {},
   "outputs": [],
   "source": [
    "## Import all the packages used for the project ##\n",
    "\n",
    "from geopy.geocoders import Nominatim\n",
    "import geopandas as gpd\n",
    "import numpy as np\n",
    "import utm\n",
    "import folium\n",
    "from IPython.display import display\n",
    "from ipywidgets import Dropdown\n",
    "import json\n",
    "import geog\n",
    "import shapely.geometry\n",
    "import plotly_express as px\n",
    "import matplotlib.pyplot as plt\n",
    "\n",
    "import warnings\n",
    "warnings.filterwarnings('ignore')\n",
    "\n",
    "import osmnx as ox\n",
    "import networkx as nx\n",
    "ox.settings.log_console=True\n",
    "ox.settings.use_cache=True"
   ]
  },
  {
   "cell_type": "markdown",
   "id": "f14809ba",
   "metadata": {},
   "source": [
    "## Introduce functions required for the process\n",
    "\n",
    "This section includes all the functions required for processing the data and filtering"
   ]
  },
  {
   "cell_type": "code",
   "execution_count": 9,
   "id": "438a9a8d",
   "metadata": {},
   "outputs": [],
   "source": [
    "\n",
    "## To convert latitude/longitude to UTM coordinates\n",
    "def utm_dist(lat,long):\n",
    "    #convert lat/long to utm\n",
    "    u = utm.from_latlon(lat, long)\n",
    "    #return UTM coordinates\n",
    "    return (u[0],u[1])\n",
    "\n",
    "def printmd(string):\n",
    "    display(Markdown(string))   \n",
    "\n",
    "## Function to return the maximum distance that can be travelled based on the mode of travel and time##\n",
    "def dist_fn(mode, time):\n",
    "    #create a dictionary with average speed for each mode of travel\n",
    "    speed_dict = {'walk':5, 'drive':50, 'bike':19}\n",
    "    #convert the speed to m/s\n",
    "    sp = speed_dict[mode]/3.6\n",
    "    #find distance from given speed and time\n",
    "    dist = sp * time\n",
    "    #return distance\n",
    "    return dist\n",
    "\n",
    "## Function to find the latitude/longitude of the input location ##\n",
    "def latlong(place):\n",
    "    #Initialize Nominatim\n",
    "    geolocator = Nominatim(user_agent=\"MyApp\")\n",
    "    #Get the geo-coordinates of current location\n",
    "    coordinates = geolocator.geocode(place)\n",
    "    #Latitude of the place\n",
    "    lat=float(coordinates.latitude)\n",
    "    #Longitude of the place\n",
    "    long=float(coordinates.longitude)\n",
    "    orig = (lat,long)\n",
    "    return orig\n",
    "\n",
    "## Function to import the dataset based on the type of place to visit ##\n",
    "def data(interest):\n",
    "    #dictionary with place of visit as keys and columns to be extracted as values\n",
    "    dict1={'Tourist_spots':['addr:postcode','name','opening_hours','tourism','wheelchair:description','geometry'],\\\n",
    "           'pub':['id','addr:postcode','name','opening_hours','website','geometry'],\\\n",
    "           'cafe':['id','addr:postcode','name','opening_hours','outdoor_seating','geometry'],\\\n",
    "           'restaurant':['id','addr:postcode','addr:street','name','opening_hours','phone','geometry']}\n",
    "    #open the geojson file for the corresponding place of interest   \n",
    "    df = gpd.read_file(interest+'.geojson')\n",
    "    #remove the rows where 'name' is NAN\n",
    "    df = df.dropna(axis=0, subset=['name'])\n",
    "    #Extract columns based on the point of interest - from dict1\n",
    "    df=df[dict1[interest]]\n",
    "    #return the dataframe\n",
    "    return df\n",
    "\n",
    "\n",
    "def dropdown_eventhandler(change):\n",
    "    print(change.new)\n",
    "\n",
    "def path(G, orig, dest):\n",
    "    #find the nearest nodes for the current location and the target\n",
    "    orig_node, dest_node = ox.nearest_nodes(G,X=[orig[0], dest[0]],\\\n",
    "                            Y=[orig[1], dest[1]])\n",
    "    #if there is a path that can be found between the two nodes in G\n",
    "    if nx.has_path(G, orig_node, dest_node):\n",
    "        #opt_route is the shortest path between orig_node and dest_node where travel_time was considered as the edge weight\n",
    "        opt_route = nx.shortest_path(G, orig_node, dest_node, weight='travel_time')\n",
    "        return opt_route\n",
    "    #if there is no such route\n",
    "    else:\n",
    "        #return 0\n",
    "        return 0\n",
    "    \n",
    "## Function for geofencing - filter the data points inside the custom polygon ##\n",
    "def filtr(df, mask):\n",
    "    #check whether the points are inside or outside of the polygon\n",
    "    mask_geofence = df.within(mask)\n",
    "    #save the value as a new column geofence\n",
    "    df.loc[:,'geofence'] = mask_geofence\n",
    "    #drop the rows where geofence is False\n",
    "    df = df.loc[df['geofence'] == True]\n",
    "    #drop the column geofence and return the dataframe\n",
    "    return df.drop(['geofence'], axis=1)\n",
    "\n",
    "def find_time(G, route, att):\n",
    "    #sum all the travel times on edges in the path together to get the total time\n",
    "    time = int(sum(ox.utils_graph.get_route_edge_attributes(G, route, att)))\n",
    "    return time\n",
    "    return time"
   ]
  },
  {
   "cell_type": "markdown",
   "id": "69a7450e",
   "metadata": {},
   "source": [
    "## Create widgets needed for the inputs"
   ]
  },
  {
   "cell_type": "code",
   "execution_count": 10,
   "id": "1b35c5a2",
   "metadata": {},
   "outputs": [
    {
     "name": "stdout",
     "output_type": "stream",
     "text": [
      "Enter your current location:Stratford, London\n",
      "Enter the maximum travel time(in min):3\n"
     ]
    }
   ],
   "source": [
    "## User inputs ##\n",
    "\n",
    "#to input the current location\n",
    "place = str(input(\"Enter your current location:\"))\n",
    "#to input max travel time\n",
    "time_in_min = int(input(\"Enter the maximum travel time(in min):\"))\n",
    "#convert time from minutes to seconds\n",
    "time = time_in_min*60"
   ]
  },
  {
   "cell_type": "code",
   "execution_count": 21,
   "id": "b7e09362",
   "metadata": {},
   "outputs": [
    {
     "name": "stdout",
     "output_type": "stream",
     "text": [
      "\n",
      " Choose the mode of travel:\n"
     ]
    },
    {
     "data": {
      "application/vnd.jupyter.widget-view+json": {
       "model_id": "29101e2a2ee241f1926031cbf631009c",
       "version_major": 2,
       "version_minor": 0
      },
      "text/plain": [
       "Dropdown(options=('drive', 'walk', 'bike'), value='drive')"
      ]
     },
     "metadata": {},
     "output_type": "display_data"
    },
    {
     "name": "stdout",
     "output_type": "stream",
     "text": [
      "\n",
      " Choose the type of place you want to visit:\n"
     ]
    },
    {
     "data": {
      "application/vnd.jupyter.widget-view+json": {
       "model_id": "210a11b1507d4265b42fa704e52aaf46",
       "version_major": 2,
       "version_minor": 0
      },
      "text/plain": [
       "Dropdown(options=('pub', 'cafe', 'restaurant', 'Tourist_spots'), value='pub')"
      ]
     },
     "metadata": {},
     "output_type": "display_data"
    },
    {
     "name": "stdout",
     "output_type": "stream",
     "text": [
      "cafe\n"
     ]
    }
   ],
   "source": [
    "print(\"\\n Choose the mode of travel:\")\n",
    "#create the list for the dropdown\n",
    "mode_list = ['drive', 'walk','bike']\n",
    "#dropdown with mode_list as the options\n",
    "mode_drop = Dropdown(options=mode_list)\n",
    "mode_drop.observe(dropdown_eventhandler, names='value')\n",
    "#display the dropdown\n",
    "display(mode_drop)\n",
    "\n",
    "print(\"\\n Choose the type of place you want to visit:\")\n",
    "#create the list for the dropdown\n",
    "visit_list = ['pub','cafe','restaurant','Tourist_spots']\n",
    "#dropdown with visit_list as the options\n",
    "visit_drop = Dropdown(options=visit_list)\n",
    "visit_drop.observe(dropdown_eventhandler, names='value')\n",
    "#display the dropdown\n",
    "display(visit_drop)"
   ]
  },
  {
   "cell_type": "code",
   "execution_count": 22,
   "id": "45d53dcc",
   "metadata": {},
   "outputs": [],
   "source": [
    "#Assign the values from mode_drop to mode\n",
    "mode = mode_drop.value\n",
    "#Assign the values from visit_drop to visit\n",
    "visit = visit_drop.value"
   ]
  },
  {
   "cell_type": "markdown",
   "id": "d98ee2f4",
   "metadata": {},
   "source": [
    "## Coordinates for the current location\n",
    "\n",
    "We find the latitude/longitude values for the input location"
   ]
  },
  {
   "cell_type": "code",
   "execution_count": 23,
   "id": "01e054d4",
   "metadata": {},
   "outputs": [
    {
     "name": "stdout",
     "output_type": "stream",
     "text": [
      "Current location is Stratford, Meridian Square, Stratford Marsh, London Borough of Newham, London, Greater London, England, E15 1DE, United Kingdom (51.541289, -0.0035472)\n"
     ]
    }
   ],
   "source": [
    "# Initialize Nominatim API\n",
    "geolocator = Nominatim(user_agent=\"MyApp\")\n",
    "#Get the geo-coordinates of current location\n",
    "coordinates = geolocator.geocode(place)\n",
    "#Latitude of the current location\n",
    "lat=float(coordinates.latitude)\n",
    "#Longitude of the current location\n",
    "long=float(coordinates.longitude)\n",
    "#Latitude/Longitude coordinate\n",
    "orig = (lat,long)\n",
    "#print the address for current location\n",
    "print(\"Current location is\", coordinates, orig)"
   ]
  },
  {
   "cell_type": "markdown",
   "id": "2cfca555",
   "metadata": {},
   "source": [
    "## Import data and create polygon for geofencing\n",
    "\n",
    "Here, we import the file based on the point of interest. Maximum distance that a person can travel from the input place by the given mode of travel is found and use this distance to find a circle with centre as the input place and radius as the distance. Plot the figure with the circle and the datapoints."
   ]
  },
  {
   "cell_type": "code",
   "execution_count": 24,
   "id": "76b9113e",
   "metadata": {},
   "outputs": [
    {
     "data": {
      "image/png": "[encoded data removed]",
      "text/plain": [
       "<Figure size 720x720 with 1 Axes>"
      ]
     },
     "metadata": {
      "needs_background": "light"
     },
     "output_type": "display_data"
    }
   ],
   "source": [
    "#import the dataset based on the type of place to visit with specific columns\n",
    "df = data(visit)\n",
    "# the maximum distance that can be travelled based on the mode of travel and time\n",
    "dist = dist_fn(mode, time)\n",
    "\n",
    "#Create Point geometric object - `Point' takes positional coordinate values or point tuple parameters\n",
    "p = shapely.geometry.Point((long,lat))\n",
    "n_points = 500\n",
    "#produce 500 (n_points) evenly spaced numbers between 0 and 360\n",
    "angles = np.linspace(0, 360, n_points)\n",
    "# buffer a single point by passing in multiple angles (values of `angles).\n",
    "polygon = geog.propagate(p, angles, dist)\n",
    "\n",
    "#Save the points as a geojson file to construct the circle required for geofencing\n",
    "with open('Circle.geojson', 'w') as f:\n",
    "    f.write(json.dumps(shapely.geometry.mapping(shapely.geometry.Polygon(polygon))))\n",
    "\n",
    "#Load the geojson file Circle.geojson to a geodataframe\n",
    "Circle = gpd.read_file(\"Circle.geojson\")\n",
    "\n",
    "## Plotting the circle and all the datapoints in df ##\n",
    "#Create a figure and a set of subplots with given figure size\n",
    "fig, ax = plt.subplots(figsize=(10,10))\n",
    "#Title of the plot\n",
    "plt.title('Geofencing_Custom circle and other datapoints')\n",
    "df.plot(ax=ax, color='black')\n",
    "#Set x label \n",
    "ax.set_xlabel(\"Longitude\")\n",
    "#Set y label\n",
    "ax.set_ylabel(\"Latitude\")\n",
    "Circle.plot(ax=ax)\n",
    "plt.show()"
   ]
  },
  {
   "cell_type": "markdown",
   "id": "495ff5a7",
   "metadata": {},
   "source": [
    "## Filter data inside the boundary"
   ]
  },
  {
   "cell_type": "code",
   "execution_count": 25,
   "id": "a9496677",
   "metadata": {},
   "outputs": [
    {
     "data": {
      "application/vnd.plotly.v1+json": {
       "config": {
        "plotlyServerURL": "https://plot.ly"
       },
       "data": [
        {
         "hovertemplate": "lat=%{lat}<br>long=%{lon}<extra></extra>",
         "lat": [
          51.5550326,
          51.5320877,
          51.5411005,
          51.5278179,
          51.5414058,
          51.541209,
          51.5435035,
          51.5382846,
          51.5446867,
          51.5376104,
          51.5446357,
          51.544203,
          51.5323778,
          51.5213712,
          51.5353556,
          51.5351087,
          51.5317932,
          51.543469,
          51.5338663,
          51.5423152,
          51.5467556,
          51.5420842,
          51.5531271,
          51.5417373,
          51.5500052,
          51.5423467,
          51.5383018,
          51.5475339,
          51.5367504,
          51.5354424,
          51.5400712,
          51.5403798,
          51.54428,
          51.5426763,
          51.5276491,
          51.5269158,
          51.5579218,
          51.5518956,
          51.5538426,
          51.5435837,
          51.5437062,
          51.543468,
          51.5433076,
          51.5426364,
          51.5435985,
          51.5426462,
          51.5425551,
          51.5433168,
          51.5438643,
          51.54369,
          51.5438976,
          51.5438775,
          51.543923,
          51.5439861,
          51.5584853,
          51.5616812,
          51.5636715,
          51.5410354,
          51.5409615,
          51.5534559,
          51.5547064,
          51.5545416,
          51.5341302,
          51.5346142,
          51.5478599,
          51.554094,
          51.5322265,
          51.5430816,
          51.5428004,
          51.5267097,
          51.5322909,
          51.5323118,
          51.5555928,
          51.5549124,
          51.5463244,
          51.5575459,
          51.5191271,
          51.5394737,
          51.5219317,
          51.5354459,
          51.5373774,
          51.5571953,
          51.5405559,
          51.5515099,
          51.5328144,
          51.5426794,
          51.5393221,
          51.5468411,
          51.5373468,
          51.5442949,
          51.5280472,
          51.5550114,
          51.5410877,
          51.5416391,
          51.5324484,
          51.5401835
         ],
         "legendgroup": "",
         "lon": [
          0.009934,
          -0.0344133,
          0.0014366,
          -0.0226269,
          0.0003808,
          0.0006799,
          -0.006245,
          -0.0013168,
          -0.0085927,
          -0.0357247,
          -0.019849,
          -0.025889,
          -0.0314852,
          -0.0188298,
          -0.034018,
          -0.032807,
          -0.0265748,
          0.0050491,
          -0.0271872,
          -0.0211844,
          -0.0122633,
          0.0014302,
          -0.0254259,
          -0.0224016,
          0.0053987,
          0.0045534,
          -0.0011827,
          0.0057426,
          -0.0003649,
          -0.0005084,
          -0.011167,
          0.0011265,
          -0.0268221,
          -0.0053667,
          0.0052431,
          0.0083756,
          0.0178208,
          0.0059384,
          0.0049762,
          -0.0090519,
          -0.0084276,
          -0.0061475,
          -0.0059081,
          -0.0051825,
          -0.0085915,
          -0.0080776,
          -0.0057663,
          -0.0059367,
          -0.0078087,
          -0.0067931,
          -0.0072522,
          -0.0081156,
          -0.0087579,
          -0.0087029,
          0.0068819,
          0.0080922,
          -0.0052733,
          -0.0038576,
          -0.0037442,
          -0.0049624,
          -0.005117,
          -0.005106,
          0.0271896,
          -0.0204902,
          -0.0103304,
          0.0050171,
          -0.0337414,
          -0.0248363,
          -0.0224489,
          -0.0142251,
          -0.031876,
          -0.0317969,
          -0.0080222,
          0.0191777,
          -0.0205368,
          0.0156274,
          -0.0019254,
          -0.0244502,
          -0.0179068,
          -0.0048787,
          -0.0024381,
          -0.0108243,
          -0.0208258,
          0.025445,
          -0.0323032,
          -0.0253076,
          0.0309334,
          -0.0101582,
          0.0259523,
          -0.0286113,
          -0.0191539,
          0.0098749,
          -0.0038599,
          -0.0029178,
          -0.0088508,
          -0.0015557
         ],
         "marker": {
          "color": "#636efa"
         },
         "mode": "markers",
         "name": "",
         "showlegend": false,
         "subplot": "mapbox",
         "type": "scattermapbox"
        }
       ],
       "layout": {
        "height": 1080,
        "legend": {
         "tracegroupgap": 0
        },
        "mapbox": {
         "accesstoken": "pk.eyJ1Ijoic2hha2Fzb20iLCJhIjoiY2plMWg1NGFpMXZ5NjJxbjhlM2ttN3AwbiJ9.RtGYHmreKiyBfHuElgYq_w",
         "center": {
          "lat": 51.54214973541667,
          "lon": -0.008050223958333335
         },
         "domain": {
          "x": [
           0,
           1
          ],
          "y": [
           0,
           1
          ]
         },
         "style": "open-street-map",
         "zoom": 10
        },
        "margin": {
         "t": 60
        },
        "template": {
         "data": {
          "bar": [
           {
            "error_x": {
             "color": "#2a3f5f"
            },
            "error_y": {
             "color": "#2a3f5f"
            },
            "marker": {
             "line": {
              "color": "#E5ECF6",
              "width": 0.5
             },
             "pattern": {
              "fillmode": "overlay",
              "size": 10,
              "solidity": 0.2
             }
            },
            "type": "bar"
           }
          ],
          "barpolar": [
           {
            "marker": {
             "line": {
              "color": "#E5ECF6",
              "width": 0.5
             },
             "pattern": {
              "fillmode": "overlay",
              "size": 10,
              "solidity": 0.2
             }
            },
            "type": "barpolar"
           }
          ],
          "carpet": [
           {
            "aaxis": {
             "endlinecolor": "#2a3f5f",
             "gridcolor": "white",
             "linecolor": "white",
             "minorgridcolor": "white",
             "startlinecolor": "#2a3f5f"
            },
            "baxis": {
             "endlinecolor": "#2a3f5f",
             "gridcolor": "white",
             "linecolor": "white",
             "minorgridcolor": "white",
             "startlinecolor": "#2a3f5f"
            },
            "type": "carpet"
           }
          ],
          "choropleth": [
           {
            "colorbar": {
             "outlinewidth": 0,
             "ticks": ""
            },
            "type": "choropleth"
           }
          ],
          "contour": [
           {
            "colorbar": {
             "outlinewidth": 0,
             "ticks": ""
            },
            "colorscale": [
             [
              0,
              "#0d0887"
             ],
             [
              0.1111111111111111,
              "#46039f"
             ],
             [
              0.2222222222222222,
              "#7201a8"
             ],
             [
              0.3333333333333333,
              "#9c179e"
             ],
             [
              0.4444444444444444,
              "#bd3786"
             ],
             [
              0.5555555555555556,
              "#d8576b"
             ],
             [
              0.6666666666666666,
              "#ed7953"
             ],
             [
              0.7777777777777778,
              "#fb9f3a"
             ],
             [
              0.8888888888888888,
              "#fdca26"
             ],
             [
              1,
              "#f0f921"
             ]
            ],
            "type": "contour"
           }
          ],
          "contourcarpet": [
           {
            "colorbar": {
             "outlinewidth": 0,
             "ticks": ""
            },
            "type": "contourcarpet"
           }
          ],
          "heatmap": [
           {
            "colorbar": {
             "outlinewidth": 0,
             "ticks": ""
            },
            "colorscale": [
             [
              0,
              "#0d0887"
             ],
             [
              0.1111111111111111,
              "#46039f"
             ],
             [
              0.2222222222222222,
              "#7201a8"
             ],
             [
              0.3333333333333333,
              "#9c179e"
             ],
             [
              0.4444444444444444,
              "#bd3786"
             ],
             [
              0.5555555555555556,
              "#d8576b"
             ],
             [
              0.6666666666666666,
              "#ed7953"
             ],
             [
              0.7777777777777778,
              "#fb9f3a"
             ],
             [
              0.8888888888888888,
              "#fdca26"
             ],
             [
              1,
              "#f0f921"
             ]
            ],
            "type": "heatmap"
           }
          ],
          "heatmapgl": [
           {
            "colorbar": {
             "outlinewidth": 0,
             "ticks": ""
            },
            "colorscale": [
             [
              0,
              "#0d0887"
             ],
             [
              0.1111111111111111,
              "#46039f"
             ],
             [
              0.2222222222222222,
              "#7201a8"
             ],
             [
              0.3333333333333333,
              "#9c179e"
             ],
             [
              0.4444444444444444,
              "#bd3786"
             ],
             [
              0.5555555555555556,
              "#d8576b"
             ],
             [
              0.6666666666666666,
              "#ed7953"
             ],
             [
              0.7777777777777778,
              "#fb9f3a"
             ],
             [
              0.8888888888888888,
              "#fdca26"
             ],
             [
              1,
              "#f0f921"
             ]
            ],
            "type": "heatmapgl"
           }
          ],
          "histogram": [
           {
            "marker": {
             "pattern": {
              "fillmode": "overlay",
              "size": 10,
              "solidity": 0.2
             }
            },
            "type": "histogram"
           }
          ],
          "histogram2d": [
           {
            "colorbar": {
             "outlinewidth": 0,
             "ticks": ""
            },
            "colorscale": [
             [
              0,
              "#0d0887"
             ],
             [
              0.1111111111111111,
              "#46039f"
             ],
             [
              0.2222222222222222,
              "#7201a8"
             ],
             [
              0.3333333333333333,
              "#9c179e"
             ],
             [
              0.4444444444444444,
              "#bd3786"
             ],
             [
              0.5555555555555556,
              "#d8576b"
             ],
             [
              0.6666666666666666,
              "#ed7953"
             ],
             [
              0.7777777777777778,
              "#fb9f3a"
             ],
             [
              0.8888888888888888,
              "#fdca26"
             ],
             [
              1,
              "#f0f921"
             ]
            ],
            "type": "histogram2d"
           }
          ],
          "histogram2dcontour": [
           {
            "colorbar": {
             "outlinewidth": 0,
             "ticks": ""
            },
            "colorscale": [
             [
              0,
              "#0d0887"
             ],
             [
              0.1111111111111111,
              "#46039f"
             ],
             [
              0.2222222222222222,
              "#7201a8"
             ],
             [
              0.3333333333333333,
              "#9c179e"
             ],
             [
              0.4444444444444444,
              "#bd3786"
             ],
             [
              0.5555555555555556,
              "#d8576b"
             ],
             [
              0.6666666666666666,
              "#ed7953"
             ],
             [
              0.7777777777777778,
              "#fb9f3a"
             ],
             [
              0.8888888888888888,
              "#fdca26"
             ],
             [
              1,
              "#f0f921"
             ]
            ],
            "type": "histogram2dcontour"
           }
          ],
          "mesh3d": [
           {
            "colorbar": {
             "outlinewidth": 0,
             "ticks": ""
            },
            "type": "mesh3d"
           }
          ],
          "parcoords": [
           {
            "line": {
             "colorbar": {
              "outlinewidth": 0,
              "ticks": ""
             }
            },
            "type": "parcoords"
           }
          ],
          "pie": [
           {
            "automargin": true,
            "type": "pie"
           }
          ],
          "scatter": [
           {
            "fillpattern": {
             "fillmode": "overlay",
             "size": 10,
             "solidity": 0.2
            },
            "type": "scatter"
           }
          ],
          "scatter3d": [
           {
            "line": {
             "colorbar": {
              "outlinewidth": 0,
              "ticks": ""
             }
            },
            "marker": {
             "colorbar": {
              "outlinewidth": 0,
              "ticks": ""
             }
            },
            "type": "scatter3d"
           }
          ],
          "scattercarpet": [
           {
            "marker": {
             "colorbar": {
              "outlinewidth": 0,
              "ticks": ""
             }
            },
            "type": "scattercarpet"
           }
          ],
          "scattergeo": [
           {
            "marker": {
             "colorbar": {
              "outlinewidth": 0,
              "ticks": ""
             }
            },
            "type": "scattergeo"
           }
          ],
          "scattergl": [
           {
            "marker": {
             "colorbar": {
              "outlinewidth": 0,
              "ticks": ""
             }
            },
            "type": "scattergl"
           }
          ],
          "scattermapbox": [
           {
            "marker": {
             "colorbar": {
              "outlinewidth": 0,
              "ticks": ""
             }
            },
            "type": "scattermapbox"
           }
          ],
          "scatterpolar": [
           {
            "marker": {
             "colorbar": {
              "outlinewidth": 0,
              "ticks": ""
             }
            },
            "type": "scatterpolar"
           }
          ],
          "scatterpolargl": [
           {
            "marker": {
             "colorbar": {
              "outlinewidth": 0,
              "ticks": ""
             }
            },
            "type": "scatterpolargl"
           }
          ],
          "scatterternary": [
           {
            "marker": {
             "colorbar": {
              "outlinewidth": 0,
              "ticks": ""
             }
            },
            "type": "scatterternary"
           }
          ],
          "surface": [
           {
            "colorbar": {
             "outlinewidth": 0,
             "ticks": ""
            },
            "colorscale": [
             [
              0,
              "#0d0887"
             ],
             [
              0.1111111111111111,
              "#46039f"
             ],
             [
              0.2222222222222222,
              "#7201a8"
             ],
             [
              0.3333333333333333,
              "#9c179e"
             ],
             [
              0.4444444444444444,
              "#bd3786"
             ],
             [
              0.5555555555555556,
              "#d8576b"
             ],
             [
              0.6666666666666666,
              "#ed7953"
             ],
             [
              0.7777777777777778,
              "#fb9f3a"
             ],
             [
              0.8888888888888888,
              "#fdca26"
             ],
             [
              1,
              "#f0f921"
             ]
            ],
            "type": "surface"
           }
          ],
          "table": [
           {
            "cells": {
             "fill": {
              "color": "#EBF0F8"
             },
             "line": {
              "color": "white"
             }
            },
            "header": {
             "fill": {
              "color": "#C8D4E3"
             },
             "line": {
              "color": "white"
             }
            },
            "type": "table"
           }
          ]
         },
         "layout": {
          "annotationdefaults": {
           "arrowcolor": "#2a3f5f",
           "arrowhead": 0,
           "arrowwidth": 1
          },
          "autotypenumbers": "strict",
          "coloraxis": {
           "colorbar": {
            "outlinewidth": 0,
            "ticks": ""
           }
          },
          "colorscale": {
           "diverging": [
            [
             0,
             "#8e0152"
            ],
            [
             0.1,
             "#c51b7d"
            ],
            [
             0.2,
             "#de77ae"
            ],
            [
             0.3,
             "#f1b6da"
            ],
            [
             0.4,
             "#fde0ef"
            ],
            [
             0.5,
             "#f7f7f7"
            ],
            [
             0.6,
             "#e6f5d0"
            ],
            [
             0.7,
             "#b8e186"
            ],
            [
             0.8,
             "#7fbc41"
            ],
            [
             0.9,
             "#4d9221"
            ],
            [
             1,
             "#276419"
            ]
           ],
           "sequential": [
            [
             0,
             "#0d0887"
            ],
            [
             0.1111111111111111,
             "#46039f"
            ],
            [
             0.2222222222222222,
             "#7201a8"
            ],
            [
             0.3333333333333333,
             "#9c179e"
            ],
            [
             0.4444444444444444,
             "#bd3786"
            ],
            [
             0.5555555555555556,
             "#d8576b"
            ],
            [
             0.6666666666666666,
             "#ed7953"
            ],
            [
             0.7777777777777778,
             "#fb9f3a"
            ],
            [
             0.8888888888888888,
             "#fdca26"
            ],
            [
             1,
             "#f0f921"
            ]
           ],
           "sequentialminus": [
            [
             0,
             "#0d0887"
            ],
            [
             0.1111111111111111,
             "#46039f"
            ],
            [
             0.2222222222222222,
             "#7201a8"
            ],
            [
             0.3333333333333333,
             "#9c179e"
            ],
            [
             0.4444444444444444,
             "#bd3786"
            ],
            [
             0.5555555555555556,
             "#d8576b"
            ],
            [
             0.6666666666666666,
             "#ed7953"
            ],
            [
             0.7777777777777778,
             "#fb9f3a"
            ],
            [
             0.8888888888888888,
             "#fdca26"
            ],
            [
             1,
             "#f0f921"
            ]
           ]
          },
          "colorway": [
           "#636efa",
           "#EF553B",
           "#00cc96",
           "#ab63fa",
           "#FFA15A",
           "#19d3f3",
           "#FF6692",
           "#B6E880",
           "#FF97FF",
           "#FECB52"
          ],
          "font": {
           "color": "#2a3f5f"
          },
          "geo": {
           "bgcolor": "white",
           "lakecolor": "white",
           "landcolor": "#E5ECF6",
           "showlakes": true,
           "showland": true,
           "subunitcolor": "white"
          },
          "hoverlabel": {
           "align": "left"
          },
          "hovermode": "closest",
          "mapbox": {
           "style": "light"
          },
          "paper_bgcolor": "white",
          "plot_bgcolor": "#E5ECF6",
          "polar": {
           "angularaxis": {
            "gridcolor": "white",
            "linecolor": "white",
            "ticks": ""
           },
           "bgcolor": "#E5ECF6",
           "radialaxis": {
            "gridcolor": "white",
            "linecolor": "white",
            "ticks": ""
           }
          },
          "scene": {
           "xaxis": {
            "backgroundcolor": "#E5ECF6",
            "gridcolor": "white",
            "gridwidth": 2,
            "linecolor": "white",
            "showbackground": true,
            "ticks": "",
            "zerolinecolor": "white"
           },
           "yaxis": {
            "backgroundcolor": "#E5ECF6",
            "gridcolor": "white",
            "gridwidth": 2,
            "linecolor": "white",
            "showbackground": true,
            "ticks": "",
            "zerolinecolor": "white"
           },
           "zaxis": {
            "backgroundcolor": "#E5ECF6",
            "gridcolor": "white",
            "gridwidth": 2,
            "linecolor": "white",
            "showbackground": true,
            "ticks": "",
            "zerolinecolor": "white"
           }
          },
          "shapedefaults": {
           "line": {
            "color": "#2a3f5f"
           }
          },
          "ternary": {
           "aaxis": {
            "gridcolor": "white",
            "linecolor": "white",
            "ticks": ""
           },
           "baxis": {
            "gridcolor": "white",
            "linecolor": "white",
            "ticks": ""
           },
           "bgcolor": "#E5ECF6",
           "caxis": {
            "gridcolor": "white",
            "linecolor": "white",
            "ticks": ""
           }
          },
          "title": {
           "x": 0.05
          },
          "xaxis": {
           "automargin": true,
           "gridcolor": "white",
           "linecolor": "white",
           "ticks": "",
           "title": {
            "standoff": 15
           },
           "zerolinecolor": "white",
           "zerolinewidth": 2
          },
          "yaxis": {
           "automargin": true,
           "gridcolor": "white",
           "linecolor": "white",
           "ticks": "",
           "title": {
            "standoff": 15
           },
           "zerolinecolor": "white",
           "zerolinewidth": 2
          }
         }
        },
        "width": 1920
       }
      },
      "text/html": [
       "<div>                            <div id=\"2503e3f6-2967-419d-89e4-3af35f95cac3\" class=\"plotly-graph-div\" style=\"height:1080px; width:1920px;\"></div>            <script type=\"text/javascript\">                require([\"plotly\"], function(Plotly) {                    window.PLOTLYENV=window.PLOTLYENV || {};                                    if (document.getElementById(\"2503e3f6-2967-419d-89e4-3af35f95cac3\")) {                    Plotly.newPlot(                        \"2503e3f6-2967-419d-89e4-3af35f95cac3\",                        [{\"hovertemplate\":\"lat=%{lat}<br>long=%{lon}<extra></extra>\",\"lat\":[51.5550326,51.5320877,51.5411005,51.5278179,51.5414058,51.541209,51.5435035,51.5382846,51.5446867,51.5376104,51.5446357,51.544203,51.5323778,51.5213712,51.5353556,51.5351087,51.5317932,51.543469,51.5338663,51.5423152,51.5467556,51.5420842,51.5531271,51.5417373,51.5500052,51.5423467,51.5383018,51.5475339,51.5367504,51.5354424,51.5400712,51.5403798,51.54428,51.5426763,51.5276491,51.5269158,51.5579218,51.5518956,51.5538426,51.5435837,51.5437062,51.543468,51.5433076,51.5426364,51.5435985,51.5426462,51.5425551,51.5433168,51.5438643,51.54369,51.5438976,51.5438775,51.543923,51.5439861,51.5584853,51.5616812,51.5636715,51.5410354,51.5409615,51.5534559,51.5547064,51.5545416,51.5341302,51.5346142,51.5478599,51.554094,51.5322265,51.5430816,51.5428004,51.5267097,51.5322909,51.5323118,51.5555928,51.5549124,51.5463244,51.5575459,51.5191271,51.5394737,51.5219317,51.5354459,51.5373774,51.5571953,51.5405559,51.5515099,51.5328144,51.5426794,51.5393221,51.5468411,51.5373468,51.5442949,51.5280472,51.5550114,51.5410877,51.5416391,51.5324484,51.5401835],\"legendgroup\":\"\",\"lon\":[0.009934,-0.0344133,0.0014366,-0.0226269,0.0003808,0.0006799,-0.006245,-0.0013168,-0.0085927,-0.0357247,-0.019849,-0.025889,-0.0314852,-0.0188298,-0.034018,-0.032807,-0.0265748,0.0050491,-0.0271872,-0.0211844,-0.0122633,0.0014302,-0.0254259,-0.0224016,0.0053987,0.0045534,-0.0011827,0.0057426,-0.0003649,-0.0005084,-0.011167,0.0011265,-0.0268221,-0.0053667,0.0052431,0.0083756,0.0178208,0.0059384,0.0049762,-0.0090519,-0.0084276,-0.0061475,-0.0059081,-0.0051825,-0.0085915,-0.0080776,-0.0057663,-0.0059367,-0.0078087,-0.0067931,-0.0072522,-0.0081156,-0.0087579,-0.0087029,0.0068819,0.0080922,-0.0052733,-0.0038576,-0.0037442,-0.0049624,-0.005117,-0.005106,0.0271896,-0.0204902,-0.0103304,0.0050171,-0.0337414,-0.0248363,-0.0224489,-0.0142251,-0.031876,-0.0317969,-0.0080222,0.0191777,-0.0205368,0.0156274,-0.0019254,-0.0244502,-0.0179068,-0.0048787,-0.0024381,-0.0108243,-0.0208258,0.025445,-0.0323032,-0.0253076,0.0309334,-0.0101582,0.0259523,-0.0286113,-0.0191539,0.0098749,-0.0038599,-0.0029178,-0.0088508,-0.0015557],\"marker\":{\"color\":\"#636efa\"},\"mode\":\"markers\",\"name\":\"\",\"showlegend\":false,\"subplot\":\"mapbox\",\"type\":\"scattermapbox\"}],                        {\"template\":{\"data\":{\"histogram2dcontour\":[{\"type\":\"histogram2dcontour\",\"colorbar\":{\"outlinewidth\":0,\"ticks\":\"\"},\"colorscale\":[[0.0,\"#0d0887\"],[0.1111111111111111,\"#46039f\"],[0.2222222222222222,\"#7201a8\"],[0.3333333333333333,\"#9c179e\"],[0.4444444444444444,\"#bd3786\"],[0.5555555555555556,\"#d8576b\"],[0.6666666666666666,\"#ed7953\"],[0.7777777777777778,\"#fb9f3a\"],[0.8888888888888888,\"#fdca26\"],[1.0,\"#f0f921\"]]}],\"choropleth\":[{\"type\":\"choropleth\",\"colorbar\":{\"outlinewidth\":0,\"ticks\":\"\"}}],\"histogram2d\":[{\"type\":\"histogram2d\",\"colorbar\":{\"outlinewidth\":0,\"ticks\":\"\"},\"colorscale\":[[0.0,\"#0d0887\"],[0.1111111111111111,\"#46039f\"],[0.2222222222222222,\"#7201a8\"],[0.3333333333333333,\"#9c179e\"],[0.4444444444444444,\"#bd3786\"],[0.5555555555555556,\"#d8576b\"],[0.6666666666666666,\"#ed7953\"],[0.7777777777777778,\"#fb9f3a\"],[0.8888888888888888,\"#fdca26\"],[1.0,\"#f0f921\"]]}],\"heatmap\":[{\"type\":\"heatmap\",\"colorbar\":{\"outlinewidth\":0,\"ticks\":\"\"},\"colorscale\":[[0.0,\"#0d0887\"],[0.1111111111111111,\"#46039f\"],[0.2222222222222222,\"#7201a8\"],[0.3333333333333333,\"#9c179e\"],[0.4444444444444444,\"#bd3786\"],[0.5555555555555556,\"#d8576b\"],[0.6666666666666666,\"#ed7953\"],[0.7777777777777778,\"#fb9f3a\"],[0.8888888888888888,\"#fdca26\"],[1.0,\"#f0f921\"]]}],\"heatmapgl\":[{\"type\":\"heatmapgl\",\"colorbar\":{\"outlinewidth\":0,\"ticks\":\"\"},\"colorscale\":[[0.0,\"#0d0887\"],[0.1111111111111111,\"#46039f\"],[0.2222222222222222,\"#7201a8\"],[0.3333333333333333,\"#9c179e\"],[0.4444444444444444,\"#bd3786\"],[0.5555555555555556,\"#d8576b\"],[0.6666666666666666,\"#ed7953\"],[0.7777777777777778,\"#fb9f3a\"],[0.8888888888888888,\"#fdca26\"],[1.0,\"#f0f921\"]]}],\"contourcarpet\":[{\"type\":\"contourcarpet\",\"colorbar\":{\"outlinewidth\":0,\"ticks\":\"\"}}],\"contour\":[{\"type\":\"contour\",\"colorbar\":{\"outlinewidth\":0,\"ticks\":\"\"},\"colorscale\":[[0.0,\"#0d0887\"],[0.1111111111111111,\"#46039f\"],[0.2222222222222222,\"#7201a8\"],[0.3333333333333333,\"#9c179e\"],[0.4444444444444444,\"#bd3786\"],[0.5555555555555556,\"#d8576b\"],[0.6666666666666666,\"#ed7953\"],[0.7777777777777778,\"#fb9f3a\"],[0.8888888888888888,\"#fdca26\"],[1.0,\"#f0f921\"]]}],\"surface\":[{\"type\":\"surface\",\"colorbar\":{\"outlinewidth\":0,\"ticks\":\"\"},\"colorscale\":[[0.0,\"#0d0887\"],[0.1111111111111111,\"#46039f\"],[0.2222222222222222,\"#7201a8\"],[0.3333333333333333,\"#9c179e\"],[0.4444444444444444,\"#bd3786\"],[0.5555555555555556,\"#d8576b\"],[0.6666666666666666,\"#ed7953\"],[0.7777777777777778,\"#fb9f3a\"],[0.8888888888888888,\"#fdca26\"],[1.0,\"#f0f921\"]]}],\"mesh3d\":[{\"type\":\"mesh3d\",\"colorbar\":{\"outlinewidth\":0,\"ticks\":\"\"}}],\"scatter\":[{\"fillpattern\":{\"fillmode\":\"overlay\",\"size\":10,\"solidity\":0.2},\"type\":\"scatter\"}],\"parcoords\":[{\"type\":\"parcoords\",\"line\":{\"colorbar\":{\"outlinewidth\":0,\"ticks\":\"\"}}}],\"scatterpolargl\":[{\"type\":\"scatterpolargl\",\"marker\":{\"colorbar\":{\"outlinewidth\":0,\"ticks\":\"\"}}}],\"bar\":[{\"error_x\":{\"color\":\"#2a3f5f\"},\"error_y\":{\"color\":\"#2a3f5f\"},\"marker\":{\"line\":{\"color\":\"#E5ECF6\",\"width\":0.5},\"pattern\":{\"fillmode\":\"overlay\",\"size\":10,\"solidity\":0.2}},\"type\":\"bar\"}],\"scattergeo\":[{\"type\":\"scattergeo\",\"marker\":{\"colorbar\":{\"outlinewidth\":0,\"ticks\":\"\"}}}],\"scatterpolar\":[{\"type\":\"scatterpolar\",\"marker\":{\"colorbar\":{\"outlinewidth\":0,\"ticks\":\"\"}}}],\"histogram\":[{\"marker\":{\"pattern\":{\"fillmode\":\"overlay\",\"size\":10,\"solidity\":0.2}},\"type\":\"histogram\"}],\"scattergl\":[{\"type\":\"scattergl\",\"marker\":{\"colorbar\":{\"outlinewidth\":0,\"ticks\":\"\"}}}],\"scatter3d\":[{\"type\":\"scatter3d\",\"line\":{\"colorbar\":{\"outlinewidth\":0,\"ticks\":\"\"}},\"marker\":{\"colorbar\":{\"outlinewidth\":0,\"ticks\":\"\"}}}],\"scattermapbox\":[{\"type\":\"scattermapbox\",\"marker\":{\"colorbar\":{\"outlinewidth\":0,\"ticks\":\"\"}}}],\"scatterternary\":[{\"type\":\"scatterternary\",\"marker\":{\"colorbar\":{\"outlinewidth\":0,\"ticks\":\"\"}}}],\"scattercarpet\":[{\"type\":\"scattercarpet\",\"marker\":{\"colorbar\":{\"outlinewidth\":0,\"ticks\":\"\"}}}],\"carpet\":[{\"aaxis\":{\"endlinecolor\":\"#2a3f5f\",\"gridcolor\":\"white\",\"linecolor\":\"white\",\"minorgridcolor\":\"white\",\"startlinecolor\":\"#2a3f5f\"},\"baxis\":{\"endlinecolor\":\"#2a3f5f\",\"gridcolor\":\"white\",\"linecolor\":\"white\",\"minorgridcolor\":\"white\",\"startlinecolor\":\"#2a3f5f\"},\"type\":\"carpet\"}],\"table\":[{\"cells\":{\"fill\":{\"color\":\"#EBF0F8\"},\"line\":{\"color\":\"white\"}},\"header\":{\"fill\":{\"color\":\"#C8D4E3\"},\"line\":{\"color\":\"white\"}},\"type\":\"table\"}],\"barpolar\":[{\"marker\":{\"line\":{\"color\":\"#E5ECF6\",\"width\":0.5},\"pattern\":{\"fillmode\":\"overlay\",\"size\":10,\"solidity\":0.2}},\"type\":\"barpolar\"}],\"pie\":[{\"automargin\":true,\"type\":\"pie\"}]},\"layout\":{\"autotypenumbers\":\"strict\",\"colorway\":[\"#636efa\",\"#EF553B\",\"#00cc96\",\"#ab63fa\",\"#FFA15A\",\"#19d3f3\",\"#FF6692\",\"#B6E880\",\"#FF97FF\",\"#FECB52\"],\"font\":{\"color\":\"#2a3f5f\"},\"hovermode\":\"closest\",\"hoverlabel\":{\"align\":\"left\"},\"paper_bgcolor\":\"white\",\"plot_bgcolor\":\"#E5ECF6\",\"polar\":{\"bgcolor\":\"#E5ECF6\",\"angularaxis\":{\"gridcolor\":\"white\",\"linecolor\":\"white\",\"ticks\":\"\"},\"radialaxis\":{\"gridcolor\":\"white\",\"linecolor\":\"white\",\"ticks\":\"\"}},\"ternary\":{\"bgcolor\":\"#E5ECF6\",\"aaxis\":{\"gridcolor\":\"white\",\"linecolor\":\"white\",\"ticks\":\"\"},\"baxis\":{\"gridcolor\":\"white\",\"linecolor\":\"white\",\"ticks\":\"\"},\"caxis\":{\"gridcolor\":\"white\",\"linecolor\":\"white\",\"ticks\":\"\"}},\"coloraxis\":{\"colorbar\":{\"outlinewidth\":0,\"ticks\":\"\"}},\"colorscale\":{\"sequential\":[[0.0,\"#0d0887\"],[0.1111111111111111,\"#46039f\"],[0.2222222222222222,\"#7201a8\"],[0.3333333333333333,\"#9c179e\"],[0.4444444444444444,\"#bd3786\"],[0.5555555555555556,\"#d8576b\"],[0.6666666666666666,\"#ed7953\"],[0.7777777777777778,\"#fb9f3a\"],[0.8888888888888888,\"#fdca26\"],[1.0,\"#f0f921\"]],\"sequentialminus\":[[0.0,\"#0d0887\"],[0.1111111111111111,\"#46039f\"],[0.2222222222222222,\"#7201a8\"],[0.3333333333333333,\"#9c179e\"],[0.4444444444444444,\"#bd3786\"],[0.5555555555555556,\"#d8576b\"],[0.6666666666666666,\"#ed7953\"],[0.7777777777777778,\"#fb9f3a\"],[0.8888888888888888,\"#fdca26\"],[1.0,\"#f0f921\"]],\"diverging\":[[0,\"#8e0152\"],[0.1,\"#c51b7d\"],[0.2,\"#de77ae\"],[0.3,\"#f1b6da\"],[0.4,\"#fde0ef\"],[0.5,\"#f7f7f7\"],[0.6,\"#e6f5d0\"],[0.7,\"#b8e186\"],[0.8,\"#7fbc41\"],[0.9,\"#4d9221\"],[1,\"#276419\"]]},\"xaxis\":{\"gridcolor\":\"white\",\"linecolor\":\"white\",\"ticks\":\"\",\"title\":{\"standoff\":15},\"zerolinecolor\":\"white\",\"automargin\":true,\"zerolinewidth\":2},\"yaxis\":{\"gridcolor\":\"white\",\"linecolor\":\"white\",\"ticks\":\"\",\"title\":{\"standoff\":15},\"zerolinecolor\":\"white\",\"automargin\":true,\"zerolinewidth\":2},\"scene\":{\"xaxis\":{\"backgroundcolor\":\"#E5ECF6\",\"gridcolor\":\"white\",\"linecolor\":\"white\",\"showbackground\":true,\"ticks\":\"\",\"zerolinecolor\":\"white\",\"gridwidth\":2},\"yaxis\":{\"backgroundcolor\":\"#E5ECF6\",\"gridcolor\":\"white\",\"linecolor\":\"white\",\"showbackground\":true,\"ticks\":\"\",\"zerolinecolor\":\"white\",\"gridwidth\":2},\"zaxis\":{\"backgroundcolor\":\"#E5ECF6\",\"gridcolor\":\"white\",\"linecolor\":\"white\",\"showbackground\":true,\"ticks\":\"\",\"zerolinecolor\":\"white\",\"gridwidth\":2}},\"shapedefaults\":{\"line\":{\"color\":\"#2a3f5f\"}},\"annotationdefaults\":{\"arrowcolor\":\"#2a3f5f\",\"arrowhead\":0,\"arrowwidth\":1},\"geo\":{\"bgcolor\":\"white\",\"landcolor\":\"#E5ECF6\",\"subunitcolor\":\"white\",\"showland\":true,\"showlakes\":true,\"lakecolor\":\"white\"},\"title\":{\"x\":0.05},\"mapbox\":{\"style\":\"light\"}}},\"mapbox\":{\"domain\":{\"x\":[0.0,1.0],\"y\":[0.0,1.0]},\"center\":{\"lat\":51.54214973541667,\"lon\":-0.008050223958333335},\"accesstoken\":\"pk.eyJ1Ijoic2hha2Fzb20iLCJhIjoiY2plMWg1NGFpMXZ5NjJxbjhlM2ttN3AwbiJ9.RtGYHmreKiyBfHuElgYq_w\",\"zoom\":10,\"style\":\"open-street-map\"},\"legend\":{\"tracegroupgap\":0},\"margin\":{\"t\":60},\"height\":1080,\"width\":1920},                        {\"responsive\": true}                    ).then(function(){\n",
       "                            \n",
       "var gd = document.getElementById('2503e3f6-2967-419d-89e4-3af35f95cac3');\n",
       "var x = new MutationObserver(function (mutations, observer) {{\n",
       "        var display = window.getComputedStyle(gd).display;\n",
       "        if (!display || display === 'none') {{\n",
       "            console.log([gd, 'removed!']);\n",
       "            Plotly.purge(gd);\n",
       "            observer.disconnect();\n",
       "        }}\n",
       "}});\n",
       "\n",
       "// Listen for the removal of the full notebook cells\n",
       "var notebookContainer = gd.closest('#notebook-container');\n",
       "if (notebookContainer) {{\n",
       "    x.observe(notebookContainer, {childList: true});\n",
       "}}\n",
       "\n",
       "// Listen for the clearing of the current output cell\n",
       "var outputEl = gd.closest('.output');\n",
       "if (outputEl) {{\n",
       "    x.observe(outputEl, {childList: true});\n",
       "}}\n",
       "\n",
       "                        })                };                });            </script>        </div>"
      ]
     },
     "metadata": {},
     "output_type": "display_data"
    }
   ],
   "source": [
    "#create a mask using the coordinates\n",
    "mask = (Circle.loc[0, 'geometry'])\n",
    "\n",
    "#apply filtr function to filter the data points which is within the circle\n",
    "df = filtr(df,mask)\n",
    "\n",
    "#save the latitude/longitude values in appropriate columns\n",
    "df[\"long\"] = df['geometry'].map(lambda p: p.x)\n",
    "df[\"lat\"] = df['geometry'].map(lambda p: p.y)\n",
    "\n",
    "## plot the filterd points on the map - appears as blue dots near the current location ##\n",
    "#access a public Mapbox access token.\n",
    "px.set_mapbox_access_token(\"pk.eyJ1Ijoic2hha2Fzb20iLCJhIjoiY2plMWg1NGFpMXZ5NjJxbjhlM2ttN3AwbiJ9.RtGYHmreKiyBfHuElgYq_w\")\n",
    "# make scatter plots on Mapbox maps\n",
    "px.scatter_mapbox(df, lat=\"lat\", lon=\"long\",mapbox_style=\"open-street-map\",size_max=6, zoom=10,\\\n",
    "                  width=1920, height=1080)"
   ]
  },
  {
   "cell_type": "markdown",
   "id": "40fa3f22",
   "metadata": {},
   "source": [
    "## Creating projected graph"
   ]
  },
  {
   "cell_type": "code",
   "execution_count": 16,
   "id": "24cf1bda",
   "metadata": {},
   "outputs": [
    {
     "data": {
      "image/png": "[encoded data removed]",
      "text/plain": [
       "<Figure size 576x576 with 1 Axes>"
      ]
     },
     "metadata": {},
     "output_type": "display_data"
    }
   ],
   "source": [
    "## CREATING GRAPH ##\n",
    "#create a graph with orig as the centre,  distance - dist for the selected mode of travel\n",
    "G = ox.graph_from_point(center_point=orig, dist=dist, network_type=mode)\n",
    "#Add speed as edge attribute\n",
    "G = ox.speed.add_edge_speeds(G)\n",
    "#Add travel time as edge attribute\n",
    "G = ox.speed.add_edge_travel_times(G)\n",
    "#Project the graph to utm for better accuracy\n",
    "G_proj = ox.project_graph(G)\n",
    "#plot the graph\n",
    "fig, ax = ox.plot_graph(G_proj)"
   ]
  },
  {
   "cell_type": "markdown",
   "id": "6bc5387e",
   "metadata": {},
   "source": [
    "## Finding shortest path and travel time"
   ]
  },
  {
   "cell_type": "code",
   "execution_count": 17,
   "id": "6c8cc08b",
   "metadata": {},
   "outputs": [
    {
     "data": {
      "text/html": [
       "<div>\n",
       "<style scoped>\n",
       "    .dataframe tbody tr th:only-of-type {\n",
       "        vertical-align: middle;\n",
       "    }\n",
       "\n",
       "    .dataframe tbody tr th {\n",
       "        vertical-align: top;\n",
       "    }\n",
       "\n",
       "    .dataframe thead th {\n",
       "        text-align: right;\n",
       "    }\n",
       "</style>\n",
       "<table border=\"1\" class=\"dataframe\">\n",
       "  <thead>\n",
       "    <tr style=\"text-align: right;\">\n",
       "      <th></th>\n",
       "      <th>id</th>\n",
       "      <th>addr:postcode</th>\n",
       "      <th>name</th>\n",
       "      <th>opening_hours</th>\n",
       "      <th>website</th>\n",
       "      <th>geometry</th>\n",
       "      <th>long</th>\n",
       "      <th>lat</th>\n",
       "      <th>loc</th>\n",
       "      <th>route</th>\n",
       "      <th>time</th>\n",
       "    </tr>\n",
       "  </thead>\n",
       "  <tbody>\n",
       "    <tr>\n",
       "      <th>374</th>\n",
       "      <td>node/160548974</td>\n",
       "      <td>E3 5AA</td>\n",
       "      <td>The Morgan Arms</td>\n",
       "      <td>Mo-Th 12:00-23:00; Fr-Sa 12:00-24:00; Su 12:00...</td>\n",
       "      <td>http://www.morganarmsbow.com/</td>\n",
       "      <td>POINT (-0.03099 51.52789)</td>\n",
       "      <td>-0.030985</td>\n",
       "      <td>51.527887</td>\n",
       "      <td>(705940.8932649947, 5712709.718975637)</td>\n",
       "      <td>[2453945707, 1518021029, 7454072376, 141009573...</td>\n",
       "      <td>298</td>\n",
       "    </tr>\n",
       "    <tr>\n",
       "      <th>664</th>\n",
       "      <td>node/269253652</td>\n",
       "      <td>E15 1NS</td>\n",
       "      <td>012 Bar &amp; Grill Restaurant</td>\n",
       "      <td>Su-Th 11:00-00:00; Fr,Sa 11:00-01:00</td>\n",
       "      <td>None</td>\n",
       "      <td>POINT (0.00321 51.54275)</td>\n",
       "      <td>0.003211</td>\n",
       "      <td>51.542752</td>\n",
       "      <td>(292200.71412709384, 5714440.995151186)</td>\n",
       "      <td>[2453945707, 1518021029, 7454072376, 141009573...</td>\n",
       "      <td>364</td>\n",
       "    </tr>\n",
       "    <tr>\n",
       "      <th>665</th>\n",
       "      <td>node/269255191</td>\n",
       "      <td>E15 1NG</td>\n",
       "      <td>The Sportsman</td>\n",
       "      <td>Su-Th 09:00-23:30; Fr,Sa 09:00-01:00</td>\n",
       "      <td>None</td>\n",
       "      <td>POINT (0.00283 51.54246)</td>\n",
       "      <td>0.002834</td>\n",
       "      <td>51.542457</td>\n",
       "      <td>(292173.2805353284, 5714409.233304379)</td>\n",
       "      <td>[2453945707, 1518021029, 7454072376, 141009573...</td>\n",
       "      <td>364</td>\n",
       "    </tr>\n",
       "    <tr>\n",
       "      <th>859</th>\n",
       "      <td>node/296506670</td>\n",
       "      <td>E13 0NL</td>\n",
       "      <td>The Lamb</td>\n",
       "      <td>None</td>\n",
       "      <td>None</td>\n",
       "      <td>POINT (0.02154 51.53540)</td>\n",
       "      <td>0.021545</td>\n",
       "      <td>51.535399</td>\n",
       "      <td>(293438.4469569144, 5713571.574318911)</td>\n",
       "      <td>[2453945707, 1518021029, 7454072376, 141009573...</td>\n",
       "      <td>364</td>\n",
       "    </tr>\n",
       "    <tr>\n",
       "      <th>946</th>\n",
       "      <td>node/307534582</td>\n",
       "      <td>E7 9PA</td>\n",
       "      <td>The Hudson Bay</td>\n",
       "      <td>None</td>\n",
       "      <td>None</td>\n",
       "      <td>POINT (0.02620 51.54585)</td>\n",
       "      <td>0.026203</td>\n",
       "      <td>51.545853</td>\n",
       "      <td>(293808.7355823214, 5714720.659070811)</td>\n",
       "      <td>[2453945707, 1518021029, 7454072376, 141009573...</td>\n",
       "      <td>364</td>\n",
       "    </tr>\n",
       "  </tbody>\n",
       "</table>\n",
       "</div>"
      ],
      "text/plain": [
       "                 id addr:postcode                        name  \\\n",
       "374  node/160548974        E3 5AA             The Morgan Arms   \n",
       "664  node/269253652       E15 1NS  012 Bar & Grill Restaurant   \n",
       "665  node/269255191       E15 1NG               The Sportsman   \n",
       "859  node/296506670       E13 0NL                    The Lamb   \n",
       "946  node/307534582        E7 9PA              The Hudson Bay   \n",
       "\n",
       "                                         opening_hours  \\\n",
       "374  Mo-Th 12:00-23:00; Fr-Sa 12:00-24:00; Su 12:00...   \n",
       "664               Su-Th 11:00-00:00; Fr,Sa 11:00-01:00   \n",
       "665               Su-Th 09:00-23:30; Fr,Sa 09:00-01:00   \n",
       "859                                               None   \n",
       "946                                               None   \n",
       "\n",
       "                           website                   geometry      long  \\\n",
       "374  http://www.morganarmsbow.com/  POINT (-0.03099 51.52789) -0.030985   \n",
       "664                           None   POINT (0.00321 51.54275)  0.003211   \n",
       "665                           None   POINT (0.00283 51.54246)  0.002834   \n",
       "859                           None   POINT (0.02154 51.53540)  0.021545   \n",
       "946                           None   POINT (0.02620 51.54585)  0.026203   \n",
       "\n",
       "           lat                                      loc  \\\n",
       "374  51.527887   (705940.8932649947, 5712709.718975637)   \n",
       "664  51.542752  (292200.71412709384, 5714440.995151186)   \n",
       "665  51.542457   (292173.2805353284, 5714409.233304379)   \n",
       "859  51.535399   (293438.4469569144, 5713571.574318911)   \n",
       "946  51.545853   (293808.7355823214, 5714720.659070811)   \n",
       "\n",
       "                                                 route  time  \n",
       "374  [2453945707, 1518021029, 7454072376, 141009573...   298  \n",
       "664  [2453945707, 1518021029, 7454072376, 141009573...   364  \n",
       "665  [2453945707, 1518021029, 7454072376, 141009573...   364  \n",
       "859  [2453945707, 1518021029, 7454072376, 141009573...   364  \n",
       "946  [2453945707, 1518021029, 7454072376, 141009573...   364  "
      ]
     },
     "execution_count": 17,
     "metadata": {},
     "output_type": "execute_result"
    }
   ],
   "source": [
    "#convert the latitude/longitude values of the current location into utm coordinates\n",
    "orig_utm = utm_dist(lat,long)\n",
    "# convert the latitude/longitude of all the data points into utm coordinates\n",
    "df['loc'] = df['geometry'].map(lambda p: utm_dist(p.y,p.x))\n",
    "\n",
    "#FINDING SHORTEST ROUTE AND TRAVEL TIME\n",
    "#find route using path function\n",
    "df['route'] = df['loc'].map(lambda p: path(G_proj, orig_utm, p))\n",
    "#remove the rows where value of 'route' is 0\n",
    "df=df[df['route'] !=0]\n",
    "#use function find_time to find the travel time for the corresponding shortest path\n",
    "df['time'] = df['route'].map(lambda p: find_time(G_proj, p,\"travel_time\"))\n",
    "df.head()"
   ]
  },
  {
   "cell_type": "markdown",
   "id": "fb5da2c4",
   "metadata": {},
   "source": [
    "## Filter points where travel time less than maximum time"
   ]
  },
  {
   "cell_type": "code",
   "execution_count": 18,
   "id": "fcea8d4d",
   "metadata": {},
   "outputs": [],
   "source": [
    "## FILTERING POINTS ##\n",
    "\n",
    "#take the minimum travel time\n",
    "min_time = df['time'].min()\n",
    "#check if the minimum travel is less than or equal to the time\n",
    "if min_time<=time:\n",
    "    #remove rows where the time is greater than or equal to the given time\n",
    "    rslt_df = df[df['time'] < time]\n",
    "else:\n",
    "    print(\"Cannot find any destination that can be reached within the specified time.\\n\")\n",
    "    print(\"The nearest destination will be shown\")\n",
    "    # select the row with minimum time\n",
    "    rslt_df=df[df['time']==min_time]"
   ]
  },
  {
   "cell_type": "markdown",
   "id": "b53c1b21",
   "metadata": {},
   "source": [
    "## Display all the choices for destination"
   ]
  },
  {
   "cell_type": "code",
   "execution_count": 19,
   "id": "ea774d75",
   "metadata": {},
   "outputs": [
    {
     "name": "stdout",
     "output_type": "stream",
     "text": [
      "Choose your destination: \n",
      "\n"
     ]
    },
    {
     "data": {
      "application/vnd.jupyter.widget-view+json": {
       "model_id": "06dd8a6848bf41349d0f7f38adf5f00d",
       "version_major": 2,
       "version_minor": 0
      },
      "text/plain": [
       "Dropdown(description='Options:\\n', options=('Tap East', 'The Cow', 'Neighbourhood', \"Mother Kelly's E20\"), val…"
      ]
     },
     "metadata": {},
     "output_type": "display_data"
    }
   ],
   "source": [
    "## Create dropdown option to select your destination ## \n",
    "option_list = rslt_df['name'].tolist()\n",
    "print(\"Choose your destination: \\n\")\n",
    "dropdown = Dropdown(description=\"Options:\\n\", options=option_list)\n",
    "dropdown.observe(dropdown_eventhandler, names='value')\n",
    "display(dropdown)"
   ]
  },
  {
   "cell_type": "markdown",
   "id": "2a8752c5",
   "metadata": {},
   "source": [
    "## Display the shortest route"
   ]
  },
  {
   "cell_type": "code",
   "execution_count": 20,
   "id": "6aa2f9b0",
   "metadata": {},
   "outputs": [
    {
     "data": {
      "text/html": [
       "<div style=\"width:100%;\"><div style=\"position:relative;width:100%;height:0;padding-bottom:60%;\"><span style=\"color:#565656\">Make this Notebook Trusted to load map: File -> Trust Notebook</span><iframe srcdoc=\"&lt;!DOCTYPE html&gt;\n",
       "&lt;head&gt;    \n",
       "    &lt;meta http-equiv=&quot;content-type&quot; content=&quot;text/html; charset=UTF-8&quot; /&gt;\n",
       "    \n",
       "        &lt;script&gt;\n",
       "            L_NO_TOUCH = false;\n",
       "            L_DISABLE_3D = false;\n",
       "        &lt;/script&gt;\n",
       "    \n",
       "    &lt;style&gt;html, body {width: 100%;height: 100%;margin: 0;padding: 0;}&lt;/style&gt;\n",
       "    &lt;style&gt;#map {position:absolute;top:0;bottom:0;right:0;left:0;}&lt;/style&gt;\n",
       "    &lt;script src=&quot;https://cdn.jsdelivr.net/npm/leaflet@1.6.0/dist/leaflet.js&quot;&gt;&lt;/script&gt;\n",
       "    &lt;script src=&quot;https://code.jquery.com/jquery-1.12.4.min.js&quot;&gt;&lt;/script&gt;\n",
       "    &lt;script src=&quot;https://maxcdn.bootstrapcdn.com/bootstrap/3.2.0/js/bootstrap.min.js&quot;&gt;&lt;/script&gt;\n",
       "    &lt;script src=&quot;https://cdnjs.cloudflare.com/ajax/libs/Leaflet.awesome-markers/2.0.2/leaflet.awesome-markers.js&quot;&gt;&lt;/script&gt;\n",
       "    &lt;link rel=&quot;stylesheet&quot; href=&quot;https://cdn.jsdelivr.net/npm/leaflet@1.6.0/dist/leaflet.css&quot;/&gt;\n",
       "    &lt;link rel=&quot;stylesheet&quot; href=&quot;https://maxcdn.bootstrapcdn.com/bootstrap/3.2.0/css/bootstrap.min.css&quot;/&gt;\n",
       "    &lt;link rel=&quot;stylesheet&quot; href=&quot;https://maxcdn.bootstrapcdn.com/bootstrap/3.2.0/css/bootstrap-theme.min.css&quot;/&gt;\n",
       "    &lt;link rel=&quot;stylesheet&quot; href=&quot;https://maxcdn.bootstrapcdn.com/font-awesome/4.6.3/css/font-awesome.min.css&quot;/&gt;\n",
       "    &lt;link rel=&quot;stylesheet&quot; href=&quot;https://cdnjs.cloudflare.com/ajax/libs/Leaflet.awesome-markers/2.0.2/leaflet.awesome-markers.css&quot;/&gt;\n",
       "    &lt;link rel=&quot;stylesheet&quot; href=&quot;https://cdn.jsdelivr.net/gh/python-visualization/folium/folium/templates/leaflet.awesome.rotate.min.css&quot;/&gt;\n",
       "    \n",
       "            &lt;meta name=&quot;viewport&quot; content=&quot;width=device-width,\n",
       "                initial-scale=1.0, maximum-scale=1.0, user-scalable=no&quot; /&gt;\n",
       "            &lt;style&gt;\n",
       "                #map_0c8ba0a3c6c50703dec8f5df4549e9e8 {\n",
       "                    position: relative;\n",
       "                    width: 100.0%;\n",
       "                    height: 100.0%;\n",
       "                    left: 0.0%;\n",
       "                    top: 0.0%;\n",
       "                }\n",
       "            &lt;/style&gt;\n",
       "        \n",
       "&lt;/head&gt;\n",
       "&lt;body&gt;    \n",
       "    \n",
       "            &lt;div class=&quot;folium-map&quot; id=&quot;map_0c8ba0a3c6c50703dec8f5df4549e9e8&quot; &gt;&lt;/div&gt;\n",
       "        \n",
       "&lt;/body&gt;\n",
       "&lt;script&gt;    \n",
       "    \n",
       "            var map_0c8ba0a3c6c50703dec8f5df4549e9e8 = L.map(\n",
       "                &quot;map_0c8ba0a3c6c50703dec8f5df4549e9e8&quot;,\n",
       "                {\n",
       "                    center: [51.542180702364966, -0.008331186374651548],\n",
       "                    crs: L.CRS.EPSG3857,\n",
       "                    zoom: 1,\n",
       "                    zoomControl: true,\n",
       "                    preferCanvas: false,\n",
       "                }\n",
       "            );\n",
       "\n",
       "            \n",
       "\n",
       "        \n",
       "    \n",
       "            var tile_layer_0f808f5b3f4b043b2bce13f3eb535d0e = L.tileLayer(\n",
       "                &quot;https://cartodb-basemaps-{s}.global.ssl.fastly.net/light_all/{z}/{x}/{y}.png&quot;,\n",
       "                {&quot;attribution&quot;: &quot;\\u0026copy; \\u003ca href=\\&quot;http://www.openstreetmap.org/copyright\\&quot;\\u003eOpenStreetMap\\u003c/a\\u003e contributors \\u0026copy; \\u003ca href=\\&quot;http://cartodb.com/attributions\\&quot;\\u003eCartoDB\\u003c/a\\u003e, CartoDB \\u003ca href =\\&quot;http://cartodb.com/attributions\\&quot;\\u003eattributions\\u003c/a\\u003e&quot;, &quot;detectRetina&quot;: false, &quot;maxNativeZoom&quot;: 18, &quot;maxZoom&quot;: 18, &quot;minZoom&quot;: 0, &quot;noWrap&quot;: false, &quot;opacity&quot;: 1, &quot;subdomains&quot;: &quot;abc&quot;, &quot;tms&quot;: false}\n",
       "            ).addTo(map_0c8ba0a3c6c50703dec8f5df4549e9e8);\n",
       "        \n",
       "    \n",
       "            var poly_line_e82149fe8927f5fa1a9817dca113a8f9 = L.polyline(\n",
       "                [[51.5417787, -0.004871], [51.5416983, -0.0049699]],\n",
       "                {&quot;bubblingMouseEvents&quot;: true, &quot;color&quot;: &quot;#3388ff&quot;, &quot;dashArray&quot;: null, &quot;dashOffset&quot;: null, &quot;fill&quot;: false, &quot;fillColor&quot;: &quot;#3388ff&quot;, &quot;fillOpacity&quot;: 0.2, &quot;fillRule&quot;: &quot;evenodd&quot;, &quot;lineCap&quot;: &quot;round&quot;, &quot;lineJoin&quot;: &quot;round&quot;, &quot;noClip&quot;: false, &quot;opacity&quot;: 1.0, &quot;smoothFactor&quot;: 1.0, &quot;stroke&quot;: true, &quot;weight&quot;: 3}\n",
       "            ).addTo(map_0c8ba0a3c6c50703dec8f5df4549e9e8);\n",
       "        \n",
       "    \n",
       "            var poly_line_0c54d46367ff1d7bb320c71ce33ffce6 = L.polyline(\n",
       "                [[51.5416983, -0.0049699], [51.5416306, -0.0049791], [51.5415114, -0.0051324], [51.541413, -0.0052842], [51.5413188, -0.0054395], [51.541214, -0.0056335], [51.5411209, -0.0058216], [51.5410387, -0.0059911], [51.5409834, -0.0061176], [51.5408903, -0.0063275], [51.5408674, -0.0063852], [51.5408479, -0.006429], [51.5408596, -0.0065433]],\n",
       "                {&quot;bubblingMouseEvents&quot;: true, &quot;color&quot;: &quot;#3388ff&quot;, &quot;dashArray&quot;: null, &quot;dashOffset&quot;: null, &quot;fill&quot;: false, &quot;fillColor&quot;: &quot;#3388ff&quot;, &quot;fillOpacity&quot;: 0.2, &quot;fillRule&quot;: &quot;evenodd&quot;, &quot;lineCap&quot;: &quot;round&quot;, &quot;lineJoin&quot;: &quot;round&quot;, &quot;noClip&quot;: false, &quot;opacity&quot;: 1.0, &quot;smoothFactor&quot;: 1.0, &quot;stroke&quot;: true, &quot;weight&quot;: 3}\n",
       "            ).addTo(map_0c8ba0a3c6c50703dec8f5df4549e9e8);\n",
       "        \n",
       "    \n",
       "            var poly_line_2992e3019ad33d565306fa2c438ffa5a = L.polyline(\n",
       "                [[51.5408596, -0.0065433], [51.5408297, -0.0066056]],\n",
       "                {&quot;bubblingMouseEvents&quot;: true, &quot;color&quot;: &quot;#3388ff&quot;, &quot;dashArray&quot;: null, &quot;dashOffset&quot;: null, &quot;fill&quot;: false, &quot;fillColor&quot;: &quot;#3388ff&quot;, &quot;fillOpacity&quot;: 0.2, &quot;fillRule&quot;: &quot;evenodd&quot;, &quot;lineCap&quot;: &quot;round&quot;, &quot;lineJoin&quot;: &quot;round&quot;, &quot;noClip&quot;: false, &quot;opacity&quot;: 1.0, &quot;smoothFactor&quot;: 1.0, &quot;stroke&quot;: true, &quot;weight&quot;: 3}\n",
       "            ).addTo(map_0c8ba0a3c6c50703dec8f5df4549e9e8);\n",
       "        \n",
       "    \n",
       "            var poly_line_0e3960838dd342e5a62f2f64519295a9 = L.polyline(\n",
       "                [[51.5408297, -0.0066056], [51.5407855, -0.0067302]],\n",
       "                {&quot;bubblingMouseEvents&quot;: true, &quot;color&quot;: &quot;#3388ff&quot;, &quot;dashArray&quot;: null, &quot;dashOffset&quot;: null, &quot;fill&quot;: false, &quot;fillColor&quot;: &quot;#3388ff&quot;, &quot;fillOpacity&quot;: 0.2, &quot;fillRule&quot;: &quot;evenodd&quot;, &quot;lineCap&quot;: &quot;round&quot;, &quot;lineJoin&quot;: &quot;round&quot;, &quot;noClip&quot;: false, &quot;opacity&quot;: 1.0, &quot;smoothFactor&quot;: 1.0, &quot;stroke&quot;: true, &quot;weight&quot;: 3}\n",
       "            ).addTo(map_0c8ba0a3c6c50703dec8f5df4549e9e8);\n",
       "        \n",
       "    \n",
       "            var poly_line_b485fa711f6a040a63b3967ff2988106 = L.polyline(\n",
       "                [[51.5407855, -0.0067302], [51.5408469, -0.0068085], [51.5409157, -0.0068964], [51.5410091, -0.0070105], [51.5412003, -0.0072766], [51.5412512, -0.0073537], [51.5413443, -0.0074858], [51.541674, -0.0079745]],\n",
       "                {&quot;bubblingMouseEvents&quot;: true, &quot;color&quot;: &quot;#3388ff&quot;, &quot;dashArray&quot;: null, &quot;dashOffset&quot;: null, &quot;fill&quot;: false, &quot;fillColor&quot;: &quot;#3388ff&quot;, &quot;fillOpacity&quot;: 0.2, &quot;fillRule&quot;: &quot;evenodd&quot;, &quot;lineCap&quot;: &quot;round&quot;, &quot;lineJoin&quot;: &quot;round&quot;, &quot;noClip&quot;: false, &quot;opacity&quot;: 1.0, &quot;smoothFactor&quot;: 1.0, &quot;stroke&quot;: true, &quot;weight&quot;: 3}\n",
       "            ).addTo(map_0c8ba0a3c6c50703dec8f5df4549e9e8);\n",
       "        \n",
       "    \n",
       "            var poly_line_739dd1e2df073fecf777c7d50cbb8b05 = L.polyline(\n",
       "                [[51.541674, -0.0079745], [51.5420037, -0.0084877], [51.5420331, -0.0085327], [51.5420726, -0.0085932], [51.5421418, -0.0086991], [51.5426717, -0.0095213]],\n",
       "                {&quot;bubblingMouseEvents&quot;: true, &quot;color&quot;: &quot;#3388ff&quot;, &quot;dashArray&quot;: null, &quot;dashOffset&quot;: null, &quot;fill&quot;: false, &quot;fillColor&quot;: &quot;#3388ff&quot;, &quot;fillOpacity&quot;: 0.2, &quot;fillRule&quot;: &quot;evenodd&quot;, &quot;lineCap&quot;: &quot;round&quot;, &quot;lineJoin&quot;: &quot;round&quot;, &quot;noClip&quot;: false, &quot;opacity&quot;: 1.0, &quot;smoothFactor&quot;: 1.0, &quot;stroke&quot;: true, &quot;weight&quot;: 3}\n",
       "            ).addTo(map_0c8ba0a3c6c50703dec8f5df4549e9e8);\n",
       "        \n",
       "    \n",
       "            var poly_line_aa6668fdc27ab74b8541b38d958cc7fe = L.polyline(\n",
       "                [[51.5426717, -0.0095213], [51.542809, -0.0097343], [51.5428122, -0.0097393], [51.5428471, -0.0097939], [51.5428852, -0.0098535], [51.5430811, -0.010157], [51.5431287, -0.0102308], [51.5432612, -0.0104362], [51.5432633, -0.0104395], [51.5433006, -0.0104963], [51.5433372, -0.0105523], [51.5434418, -0.0107387], [51.543598, -0.0109804]],\n",
       "                {&quot;bubblingMouseEvents&quot;: true, &quot;color&quot;: &quot;#3388ff&quot;, &quot;dashArray&quot;: null, &quot;dashOffset&quot;: null, &quot;fill&quot;: false, &quot;fillColor&quot;: &quot;#3388ff&quot;, &quot;fillOpacity&quot;: 0.2, &quot;fillRule&quot;: &quot;evenodd&quot;, &quot;lineCap&quot;: &quot;round&quot;, &quot;lineJoin&quot;: &quot;round&quot;, &quot;noClip&quot;: false, &quot;opacity&quot;: 1.0, &quot;smoothFactor&quot;: 1.0, &quot;stroke&quot;: true, &quot;weight&quot;: 3}\n",
       "            ).addTo(map_0c8ba0a3c6c50703dec8f5df4549e9e8);\n",
       "        \n",
       "    \n",
       "            var poly_line_118f80221d680b6c1097934afd46653e = L.polyline(\n",
       "                [[51.543598, -0.0109804], [51.5436449, -0.0109907], [51.5437812, -0.0111794], [51.5438082, -0.0112177], [51.5438566, -0.0111997]],\n",
       "                {&quot;bubblingMouseEvents&quot;: true, &quot;color&quot;: &quot;#3388ff&quot;, &quot;dashArray&quot;: null, &quot;dashOffset&quot;: null, &quot;fill&quot;: false, &quot;fillColor&quot;: &quot;#3388ff&quot;, &quot;fillOpacity&quot;: 0.2, &quot;fillRule&quot;: &quot;evenodd&quot;, &quot;lineCap&quot;: &quot;round&quot;, &quot;lineJoin&quot;: &quot;round&quot;, &quot;noClip&quot;: false, &quot;opacity&quot;: 1.0, &quot;smoothFactor&quot;: 1.0, &quot;stroke&quot;: true, &quot;weight&quot;: 3}\n",
       "            ).addTo(map_0c8ba0a3c6c50703dec8f5df4549e9e8);\n",
       "        \n",
       "    \n",
       "            var poly_line_d9cbf9643b2add16d40f5b4a03c40066 = L.polyline(\n",
       "                [[51.5438566, -0.0111997], [51.5438916, -0.0112131], [51.5439138, -0.0112426]],\n",
       "                {&quot;bubblingMouseEvents&quot;: true, &quot;color&quot;: &quot;#3388ff&quot;, &quot;dashArray&quot;: null, &quot;dashOffset&quot;: null, &quot;fill&quot;: false, &quot;fillColor&quot;: &quot;#3388ff&quot;, &quot;fillOpacity&quot;: 0.2, &quot;fillRule&quot;: &quot;evenodd&quot;, &quot;lineCap&quot;: &quot;round&quot;, &quot;lineJoin&quot;: &quot;round&quot;, &quot;noClip&quot;: false, &quot;opacity&quot;: 1.0, &quot;smoothFactor&quot;: 1.0, &quot;stroke&quot;: true, &quot;weight&quot;: 3}\n",
       "            ).addTo(map_0c8ba0a3c6c50703dec8f5df4549e9e8);\n",
       "        \n",
       "    \n",
       "            var poly_line_61a04d5a9138d467a906373454299744 = L.polyline(\n",
       "                [[51.5439138, -0.0112426], [51.544007, -0.0112284]],\n",
       "                {&quot;bubblingMouseEvents&quot;: true, &quot;color&quot;: &quot;#3388ff&quot;, &quot;dashArray&quot;: null, &quot;dashOffset&quot;: null, &quot;fill&quot;: false, &quot;fillColor&quot;: &quot;#3388ff&quot;, &quot;fillOpacity&quot;: 0.2, &quot;fillRule&quot;: &quot;evenodd&quot;, &quot;lineCap&quot;: &quot;round&quot;, &quot;lineJoin&quot;: &quot;round&quot;, &quot;noClip&quot;: false, &quot;opacity&quot;: 1.0, &quot;smoothFactor&quot;: 1.0, &quot;stroke&quot;: true, &quot;weight&quot;: 3}\n",
       "            ).addTo(map_0c8ba0a3c6c50703dec8f5df4549e9e8);\n",
       "        \n",
       "    \n",
       "            var poly_line_ef20a7d123676493dee8b7cff4845b6a = L.polyline(\n",
       "                [[51.544007, -0.0112284], [51.5440358, -0.0112775], [51.5440965, -0.0112787]],\n",
       "                {&quot;bubblingMouseEvents&quot;: true, &quot;color&quot;: &quot;#3388ff&quot;, &quot;dashArray&quot;: null, &quot;dashOffset&quot;: null, &quot;fill&quot;: false, &quot;fillColor&quot;: &quot;#3388ff&quot;, &quot;fillOpacity&quot;: 0.2, &quot;fillRule&quot;: &quot;evenodd&quot;, &quot;lineCap&quot;: &quot;round&quot;, &quot;lineJoin&quot;: &quot;round&quot;, &quot;noClip&quot;: false, &quot;opacity&quot;: 1.0, &quot;smoothFactor&quot;: 1.0, &quot;stroke&quot;: true, &quot;weight&quot;: 3}\n",
       "            ).addTo(map_0c8ba0a3c6c50703dec8f5df4549e9e8);\n",
       "        \n",
       "    \n",
       "            var poly_line_771782be3bd904ea216834aae11629ba = L.polyline(\n",
       "                [[51.5440965, -0.0112787], [51.5441159, -0.0112701], [51.5441589, -0.011251], [51.5442295, -0.0112197], [51.5443124, -0.0111729]],\n",
       "                {&quot;bubblingMouseEvents&quot;: true, &quot;color&quot;: &quot;#3388ff&quot;, &quot;dashArray&quot;: null, &quot;dashOffset&quot;: null, &quot;fill&quot;: false, &quot;fillColor&quot;: &quot;#3388ff&quot;, &quot;fillOpacity&quot;: 0.2, &quot;fillRule&quot;: &quot;evenodd&quot;, &quot;lineCap&quot;: &quot;round&quot;, &quot;lineJoin&quot;: &quot;round&quot;, &quot;noClip&quot;: false, &quot;opacity&quot;: 1.0, &quot;smoothFactor&quot;: 1.0, &quot;stroke&quot;: true, &quot;weight&quot;: 3}\n",
       "            ).addTo(map_0c8ba0a3c6c50703dec8f5df4549e9e8);\n",
       "        \n",
       "    \n",
       "            var poly_line_b16a51b580f6b1bc8cea240587d689d7 = L.polyline(\n",
       "                [[51.5443124, -0.0111729], [51.5443363, -0.0111373], [51.5443649, -0.0111085], [51.544398, -0.011044]],\n",
       "                {&quot;bubblingMouseEvents&quot;: true, &quot;color&quot;: &quot;#3388ff&quot;, &quot;dashArray&quot;: null, &quot;dashOffset&quot;: null, &quot;fill&quot;: false, &quot;fillColor&quot;: &quot;#3388ff&quot;, &quot;fillOpacity&quot;: 0.2, &quot;fillRule&quot;: &quot;evenodd&quot;, &quot;lineCap&quot;: &quot;round&quot;, &quot;lineJoin&quot;: &quot;round&quot;, &quot;noClip&quot;: false, &quot;opacity&quot;: 1.0, &quot;smoothFactor&quot;: 1.0, &quot;stroke&quot;: true, &quot;weight&quot;: 3}\n",
       "            ).addTo(map_0c8ba0a3c6c50703dec8f5df4549e9e8);\n",
       "        \n",
       "    \n",
       "            map_0c8ba0a3c6c50703dec8f5df4549e9e8.fitBounds(\n",
       "                [[51.5407855, -0.0112787], [51.544398, -0.004871]],\n",
       "                {}\n",
       "            );\n",
       "        \n",
       "    \n",
       "            var marker_8f30a79d5dfc085dda824fc8599b136a = L.marker(\n",
       "                [51.541289, -0.0035472],\n",
       "                {}\n",
       "            ).addTo(map_0c8ba0a3c6c50703dec8f5df4549e9e8);\n",
       "        \n",
       "    \n",
       "        var popup_42eca9067160be6f63503c44714d032b = L.popup({&quot;maxWidth&quot;: &quot;100%&quot;});\n",
       "\n",
       "        \n",
       "            var html_280f595d1435e3ad794c256c44889bdc = $(`&lt;div id=&quot;html_280f595d1435e3ad794c256c44889bdc&quot; style=&quot;width: 100.0%; height: 100.0%;&quot;&gt;Stratford, London&lt;/div&gt;`)[0];\n",
       "            popup_42eca9067160be6f63503c44714d032b.setContent(html_280f595d1435e3ad794c256c44889bdc);\n",
       "        \n",
       "\n",
       "        marker_8f30a79d5dfc085dda824fc8599b136a.bindPopup(popup_42eca9067160be6f63503c44714d032b)\n",
       "        ;\n",
       "\n",
       "        \n",
       "    \n",
       "    \n",
       "            var marker_e91c3b4370d7aa506fc90d94623073ca = L.marker(\n",
       "                [51.5440844, -0.0088906],\n",
       "                {}\n",
       "            ).addTo(map_0c8ba0a3c6c50703dec8f5df4549e9e8);\n",
       "        \n",
       "    \n",
       "            var icon_59cdb38555954d7ad9863afc50353ea6 = L.AwesomeMarkers.icon(\n",
       "                {&quot;extraClasses&quot;: &quot;fa-rotate-0&quot;, &quot;icon&quot;: &quot;info-sign&quot;, &quot;iconColor&quot;: &quot;white&quot;, &quot;markerColor&quot;: &quot;red&quot;, &quot;prefix&quot;: &quot;glyphicon&quot;}\n",
       "            );\n",
       "            marker_e91c3b4370d7aa506fc90d94623073ca.setIcon(icon_59cdb38555954d7ad9863afc50353ea6);\n",
       "        \n",
       "    \n",
       "        var popup_6ff3b42195209acddc2254503e6035af = L.popup({&quot;maxWidth&quot;: &quot;100%&quot;});\n",
       "\n",
       "        \n",
       "            var html_ab38efed34429bc1cc518f46fb1195ee = $(`&lt;div id=&quot;html_ab38efed34429bc1cc518f46fb1195ee&quot; style=&quot;width: 100.0%; height: 100.0%;&quot;&gt;Name: Tap East     Postcode:E20 1EE    Opening_hours: Mo-Sa 11:00-23:00; Su 12:00-22:00&lt;/div&gt;`)[0];\n",
       "            popup_6ff3b42195209acddc2254503e6035af.setContent(html_ab38efed34429bc1cc518f46fb1195ee);\n",
       "        \n",
       "\n",
       "        marker_e91c3b4370d7aa506fc90d94623073ca.bindPopup(popup_6ff3b42195209acddc2254503e6035af)\n",
       "        ;\n",
       "\n",
       "        \n",
       "    \n",
       "&lt;/script&gt;\" style=\"position:absolute;width:100%;height:100%;left:0;top:0;border:none !important;\" allowfullscreen webkitallowfullscreen mozallowfullscreen></iframe></div></div>"
      ],
      "text/plain": [
       "<folium.folium.Map at 0x7f86d4026610>"
      ]
     },
     "metadata": {},
     "output_type": "display_data"
    }
   ],
   "source": [
    "#save the value form dropdrown as dest_naem\n",
    "dest_name=dropdown.value\n",
    "# save the entry in `route' column corresponding to the destination from rslt_df dataframe\n",
    "route = rslt_df.loc[rslt_df['name']==dest_name, 'route'].iloc[0]\n",
    "# save the entry in `loc' column corresponding to the selected destination as target\n",
    "target = rslt_df.loc[rslt_df['name']==dest_name, 'loc'].iloc[0]\n",
    "\n",
    "#save `postcode' of the destination\n",
    "postcode = rslt_df.loc[rslt_df['name']==dest_name, 'addr:postcode'].iloc[0]\n",
    "#save `opening hours' of the destination\n",
    "openhrs = rslt_df.loc[rslt_df['name']==dest_name, 'opening_hours'].iloc[0]\n",
    "\n",
    "if openhrs != None:\n",
    "    # concatenate the strings\n",
    "    str1 = 'Opening_hours: ' + openhrs\n",
    "else:\n",
    "    str1 = ''\n",
    "\n",
    "#concatenate destination name postcode and opening hours(if the value is not `None') - for popup in map\n",
    "pop = f'Name: {dest_name} \\n \\n Postcode:{postcode} \\n \\n' + str1\n",
    "\n",
    "#plot the route on the map\n",
    "route_map = ox.plot_route_folium(G, route, route_color = 'red')\n",
    "\n",
    "#Make a marker representing the origin and add it to the map\n",
    "folium.Marker([lat, long], popup=place).add_to(route_map)\n",
    "\n",
    "#create a marker representing the destination and add it to the map\n",
    "folium.Marker([rslt_df[rslt_df['name']==dest_name]['lat'], rslt_df[rslt_df['name']==dest_name]['long']], \\\n",
    "              popup=pop, icon=folium.Icon(color='red') ).add_to(route_map)\n",
    "\n",
    "#display the route map\n",
    "display(route_map)"
   ]
  },
  {
   "cell_type": "markdown",
   "id": "7d1ae02c",
   "metadata": {},
   "source": [
    "#### References ####\n",
    "1. https://networkx.org/documentation/stable/tutorial.html, NETWORKX documentation (Viewed -  10 July, 12:30 PM)\n",
    "\n",
    "2. https://towardsdatascience.com/the-art-of-geofencing-in-python-e6cc237e172d, The Art of Geofencing in Python (Viewed -  12 July, 2 PM)\n",
    "\n",
    "3. https://gis.stackexchange.com/questions/268250/generating-polygon-representing-rough-100km-circle-around-latitude-longitude-poi, Generating polygon representing rough 100km circle around latitude/longitude point using Python?, Stack Exchange (Viewed -  13 July, 11:30 AM)\n",
    "\n",
    "4. https://osmnx.readthedocs.io/en/stable/, OSMnx documentation (Viewed -  10 July, 3 PM)\n",
    "\n",
    "5. https://medium.com/datasciencearth/map-visualization-with-folium-d1403771717 , Map Visualization with Folium (Viewed -  19 July, 12:30 AM)\n",
    "\n",
    "6. https://mercury-docs.readthedocs.io/en/latest/interactive-slides/, Mercury documentation (Viewed -  29 July, 12:30 AM)"
   ]
  }
 ],
 "metadata": {
  "kernelspec": {
   "display_name": "Python 3 (ipykernel)",
   "language": "python",
   "name": "python3"
  },
  "language_info": {
   "codemirror_mode": {
    "name": "ipython",
    "version": 3
   },
   "file_extension": ".py",
   "mimetype": "text/x-python",
   "name": "python",
   "nbconvert_exporter": "python",
   "pygments_lexer": "ipython3",
   "version": "3.8.12"
  }
 },
 "nbformat": 4,
 "nbformat_minor": 5
}
